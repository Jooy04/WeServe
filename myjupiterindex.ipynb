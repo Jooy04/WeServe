{
 "cells": [
  {
   "cell_type": "code",
   "execution_count": 1371,
   "metadata": {},
   "outputs": [],
   "source": [
    "import pandas as pd"
   ]
  },
  {
   "cell_type": "markdown",
   "metadata": {},
   "source": [
    "# EXTRACTION"
   ]
  },
  {
   "cell_type": "markdown",
   "metadata": {},
   "source": [
    "### 1. Extraction of data from excel to dataframe using panda\n",
    "### 2. create a workcopy of the extracted data"
   ]
  },
  {
   "cell_type": "code",
   "execution_count": 1372,
   "metadata": {},
   "outputs": [
    {
     "data": {
      "text/html": [
       "<div>\n",
       "<style scoped>\n",
       "    .dataframe tbody tr th:only-of-type {\n",
       "        vertical-align: middle;\n",
       "    }\n",
       "\n",
       "    .dataframe tbody tr th {\n",
       "        vertical-align: top;\n",
       "    }\n",
       "\n",
       "    .dataframe thead th {\n",
       "        text-align: right;\n",
       "    }\n",
       "</style>\n",
       "<table border=\"1\" class=\"dataframe\">\n",
       "  <thead>\n",
       "    <tr style=\"text-align: right;\">\n",
       "      <th></th>\n",
       "      <th>id</th>\n",
       "      <th>callerID</th>\n",
       "      <th>agentID</th>\n",
       "      <th>complaintTopic</th>\n",
       "      <th>assignedTo</th>\n",
       "      <th>status</th>\n",
       "      <th>resolutionDurationInHours</th>\n",
       "    </tr>\n",
       "  </thead>\n",
       "  <tbody>\n",
       "    <tr>\n",
       "      <th>0</th>\n",
       "      <td>1</td>\n",
       "      <td>CALLER_1</td>\n",
       "      <td>163</td>\n",
       "      <td>Billing discrepancy</td>\n",
       "      <td>122.0</td>\n",
       "      <td>CLOSED</td>\n",
       "      <td>33.0</td>\n",
       "    </tr>\n",
       "    <tr>\n",
       "      <th>1</th>\n",
       "      <td>2</td>\n",
       "      <td>CALLER_2</td>\n",
       "      <td>133</td>\n",
       "      <td>Difficulty reaching customer support</td>\n",
       "      <td>NaN</td>\n",
       "      <td>new</td>\n",
       "      <td>NaN</td>\n",
       "    </tr>\n",
       "    <tr>\n",
       "      <th>2</th>\n",
       "      <td>3</td>\n",
       "      <td>CALLER_3</td>\n",
       "      <td>153</td>\n",
       "      <td>Wrong item received</td>\n",
       "      <td>122.0</td>\n",
       "      <td>resolved</td>\n",
       "      <td>NaN</td>\n",
       "    </tr>\n",
       "    <tr>\n",
       "      <th>3</th>\n",
       "      <td>4</td>\n",
       "      <td>CALLER_4</td>\n",
       "      <td>161</td>\n",
       "      <td>Unauthorized charges</td>\n",
       "      <td>151.0</td>\n",
       "      <td>pEnding</td>\n",
       "      <td>NaN</td>\n",
       "    </tr>\n",
       "    <tr>\n",
       "      <th>4</th>\n",
       "      <td>5</td>\n",
       "      <td>CALLER_5</td>\n",
       "      <td>148</td>\n",
       "      <td>Unprofessional behavior</td>\n",
       "      <td>NaN</td>\n",
       "      <td>new</td>\n",
       "      <td>NaN</td>\n",
       "    </tr>\n",
       "  </tbody>\n",
       "</table>\n",
       "</div>"
      ],
      "text/plain": [
       "   id  callerID  agentID                        complaintTopic  assignedTo  \\\n",
       "0   1  CALLER_1      163                   Billing discrepancy       122.0   \n",
       "1   2  CALLER_2      133  Difficulty reaching customer support         NaN   \n",
       "2   3  CALLER_3      153                   Wrong item received       122.0   \n",
       "3   4  CALLER_4      161                  Unauthorized charges       151.0   \n",
       "4   5  CALLER_5      148               Unprofessional behavior         NaN   \n",
       "\n",
       "     status  resolutionDurationInHours  \n",
       "0    CLOSED                       33.0  \n",
       "1       new                        NaN  \n",
       "2  resolved                        NaN  \n",
       "3   pEnding                        NaN  \n",
       "4       new                        NaN  "
      ]
     },
     "execution_count": 1372,
     "metadata": {},
     "output_type": "execute_result"
    }
   ],
   "source": [
    "#extracting call log data\n",
    "call_log= pd.read_csv(r\"C:\\Users\\JOY\\Documents\\Data Engineering python\\ETL PROJECTS\\Final Project\\Final Project\\call log.csv\")\n",
    "call_log.head()"
   ]
  },
  {
   "cell_type": "code",
   "execution_count": 1373,
   "metadata": {},
   "outputs": [],
   "source": [
    "# creating a copy of call log data \n",
    "\n",
    "logcopy=call_log.copy()"
   ]
  },
  {
   "cell_type": "code",
   "execution_count": 1374,
   "metadata": {},
   "outputs": [],
   "source": [
    "# creating a copy of call details data\n",
    "call_details= pd.read_csv(r\"C:\\Users\\JOY\\Documents\\Data Engineering python\\ETL PROJECTS\\Final Project\\Final Project\\call details.csv\")\n"
   ]
  },
  {
   "cell_type": "code",
   "execution_count": 1375,
   "metadata": {},
   "outputs": [],
   "source": [
    "# creating a copy of call details data \n",
    "detailcopy= call_details.copy()"
   ]
  },
  {
   "cell_type": "code",
   "execution_count": 1376,
   "metadata": {},
   "outputs": [
    {
     "data": {
      "text/html": [
       "<div>\n",
       "<style scoped>\n",
       "    .dataframe tbody tr th:only-of-type {\n",
       "        vertical-align: middle;\n",
       "    }\n",
       "\n",
       "    .dataframe tbody tr th {\n",
       "        vertical-align: top;\n",
       "    }\n",
       "\n",
       "    .dataframe thead th {\n",
       "        text-align: right;\n",
       "    }\n",
       "</style>\n",
       "<table border=\"1\" class=\"dataframe\">\n",
       "  <thead>\n",
       "    <tr style=\"text-align: right;\">\n",
       "      <th></th>\n",
       "      <th>callID</th>\n",
       "      <th>callDurationInSeconds</th>\n",
       "      <th>agentsGradeLevel</th>\n",
       "      <th>callType</th>\n",
       "      <th>callEndedByAgent</th>\n",
       "    </tr>\n",
       "  </thead>\n",
       "  <tbody>\n",
       "    <tr>\n",
       "      <th>0</th>\n",
       "      <td>ageentsGradeLevel</td>\n",
       "      <td>97</td>\n",
       "      <td>A</td>\n",
       "      <td>Inbound</td>\n",
       "      <td>False</td>\n",
       "    </tr>\n",
       "    <tr>\n",
       "      <th>1</th>\n",
       "      <td>2</td>\n",
       "      <td>64</td>\n",
       "      <td>E</td>\n",
       "      <td>in-bound</td>\n",
       "      <td>True</td>\n",
       "    </tr>\n",
       "    <tr>\n",
       "      <th>2</th>\n",
       "      <td>3</td>\n",
       "      <td>100</td>\n",
       "      <td>C</td>\n",
       "      <td>in-bound</td>\n",
       "      <td>False</td>\n",
       "    </tr>\n",
       "    <tr>\n",
       "      <th>3</th>\n",
       "      <td>4</td>\n",
       "      <td>69</td>\n",
       "      <td>D</td>\n",
       "      <td>Outbound</td>\n",
       "      <td>True</td>\n",
       "    </tr>\n",
       "    <tr>\n",
       "      <th>4</th>\n",
       "      <td>5</td>\n",
       "      <td>96</td>\n",
       "      <td>D</td>\n",
       "      <td>Inbound</td>\n",
       "      <td>True</td>\n",
       "    </tr>\n",
       "  </tbody>\n",
       "</table>\n",
       "</div>"
      ],
      "text/plain": [
       "              callID  callDurationInSeconds agentsGradeLevel  callType  \\\n",
       "0  ageentsGradeLevel                     97                A   Inbound   \n",
       "1                  2                     64                E  in-bound   \n",
       "2                  3                    100                C  in-bound   \n",
       "3                  4                     69                D  Outbound   \n",
       "4                  5                     96                D   Inbound   \n",
       "\n",
       "   callEndedByAgent  \n",
       "0             False  \n",
       "1              True  \n",
       "2             False  \n",
       "3              True  \n",
       "4              True  "
      ]
     },
     "execution_count": 1376,
     "metadata": {},
     "output_type": "execute_result"
    }
   ],
   "source": [
    "detailcopy.head()"
   ]
  },
  {
   "cell_type": "markdown",
   "metadata": {},
   "source": [
    "# Merging both data frames"
   ]
  },
  {
   "cell_type": "markdown",
   "metadata": {},
   "source": [
    "##### Change the datatype on detailcopy from strings to int"
   ]
  },
  {
   "cell_type": "code",
   "execution_count": 1377,
   "metadata": {},
   "outputs": [
    {
     "name": "stderr",
     "output_type": "stream",
     "text": [
      "C:\\Users\\JOY\\AppData\\Local\\Temp\\ipykernel_2768\\1135166459.py:2: SettingWithCopyWarning: \n",
      "A value is trying to be set on a copy of a slice from a DataFrame\n",
      "\n",
      "See the caveats in the documentation: https://pandas.pydata.org/pandas-docs/stable/user_guide/indexing.html#returning-a-view-versus-a-copy\n",
      "  detailcopy['callID'][0]=1\n"
     ]
    },
    {
     "data": {
      "text/html": [
       "<div>\n",
       "<style scoped>\n",
       "    .dataframe tbody tr th:only-of-type {\n",
       "        vertical-align: middle;\n",
       "    }\n",
       "\n",
       "    .dataframe tbody tr th {\n",
       "        vertical-align: top;\n",
       "    }\n",
       "\n",
       "    .dataframe thead th {\n",
       "        text-align: right;\n",
       "    }\n",
       "</style>\n",
       "<table border=\"1\" class=\"dataframe\">\n",
       "  <thead>\n",
       "    <tr style=\"text-align: right;\">\n",
       "      <th></th>\n",
       "      <th>callID</th>\n",
       "      <th>callDurationInSeconds</th>\n",
       "      <th>agentsGradeLevel</th>\n",
       "      <th>callType</th>\n",
       "      <th>callEndedByAgent</th>\n",
       "    </tr>\n",
       "  </thead>\n",
       "  <tbody>\n",
       "    <tr>\n",
       "      <th>0</th>\n",
       "      <td>1</td>\n",
       "      <td>97</td>\n",
       "      <td>A</td>\n",
       "      <td>Inbound</td>\n",
       "      <td>False</td>\n",
       "    </tr>\n",
       "    <tr>\n",
       "      <th>1</th>\n",
       "      <td>2</td>\n",
       "      <td>64</td>\n",
       "      <td>E</td>\n",
       "      <td>in-bound</td>\n",
       "      <td>True</td>\n",
       "    </tr>\n",
       "    <tr>\n",
       "      <th>2</th>\n",
       "      <td>3</td>\n",
       "      <td>100</td>\n",
       "      <td>C</td>\n",
       "      <td>in-bound</td>\n",
       "      <td>False</td>\n",
       "    </tr>\n",
       "    <tr>\n",
       "      <th>3</th>\n",
       "      <td>4</td>\n",
       "      <td>69</td>\n",
       "      <td>D</td>\n",
       "      <td>Outbound</td>\n",
       "      <td>True</td>\n",
       "    </tr>\n",
       "    <tr>\n",
       "      <th>4</th>\n",
       "      <td>5</td>\n",
       "      <td>96</td>\n",
       "      <td>D</td>\n",
       "      <td>Inbound</td>\n",
       "      <td>True</td>\n",
       "    </tr>\n",
       "  </tbody>\n",
       "</table>\n",
       "</div>"
      ],
      "text/plain": [
       "  callID  callDurationInSeconds agentsGradeLevel  callType  callEndedByAgent\n",
       "0      1                     97                A   Inbound             False\n",
       "1      2                     64                E  in-bound              True\n",
       "2      3                    100                C  in-bound             False\n",
       "3      4                     69                D  Outbound              True\n",
       "4      5                     96                D   Inbound              True"
      ]
     },
     "execution_count": 1377,
     "metadata": {},
     "output_type": "execute_result"
    }
   ],
   "source": [
    "#cleaning the callID column with a wrong value of \"ageentGradelevel\"\n",
    "detailcopy['callID'][0]=1\n",
    "detailcopy.head()"
   ]
  },
  {
   "cell_type": "code",
   "execution_count": 1378,
   "metadata": {},
   "outputs": [
    {
     "data": {
      "text/plain": [
       "callID                   object\n",
       "callDurationInSeconds     int64\n",
       "agentsGradeLevel         object\n",
       "callType                 object\n",
       "callEndedByAgent           bool\n",
       "dtype: object"
      ]
     },
     "execution_count": 1378,
     "metadata": {},
     "output_type": "execute_result"
    }
   ],
   "source": [
    "detailcopy.dtypes"
   ]
  },
  {
   "cell_type": "code",
   "execution_count": 1379,
   "metadata": {},
   "outputs": [
    {
     "data": {
      "text/plain": [
       "callID                    int64\n",
       "callDurationInSeconds     int64\n",
       "agentsGradeLevel         object\n",
       "callType                 object\n",
       "callEndedByAgent           bool\n",
       "dtype: object"
      ]
     },
     "execution_count": 1379,
     "metadata": {},
     "output_type": "execute_result"
    }
   ],
   "source": [
    "#making both columns the same data types so as to merge\n",
    "detailcopy['callID']=pd.to_numeric(detailcopy['callID']) \n",
    "detailcopy.dtypes"
   ]
  },
  {
   "cell_type": "code",
   "execution_count": 1380,
   "metadata": {},
   "outputs": [
    {
     "data": {
      "text/plain": [
       "id                             int64\n",
       "callerID                      object\n",
       "agentID                        int64\n",
       "complaintTopic                object\n",
       "assignedTo                   float64\n",
       "status                        object\n",
       "resolutionDurationInHours    float64\n",
       "dtype: object"
      ]
     },
     "execution_count": 1380,
     "metadata": {},
     "output_type": "execute_result"
    }
   ],
   "source": [
    "logcopy.dtypes"
   ]
  },
  {
   "cell_type": "markdown",
   "metadata": {},
   "source": [
    "##### Merging both data frames on 'callID' for detailcopy and 'id' on logcopy"
   ]
  },
  {
   "cell_type": "code",
   "execution_count": 1381,
   "metadata": {},
   "outputs": [
    {
     "data": {
      "text/html": [
       "<div>\n",
       "<style scoped>\n",
       "    .dataframe tbody tr th:only-of-type {\n",
       "        vertical-align: middle;\n",
       "    }\n",
       "\n",
       "    .dataframe tbody tr th {\n",
       "        vertical-align: top;\n",
       "    }\n",
       "\n",
       "    .dataframe thead th {\n",
       "        text-align: right;\n",
       "    }\n",
       "</style>\n",
       "<table border=\"1\" class=\"dataframe\">\n",
       "  <thead>\n",
       "    <tr style=\"text-align: right;\">\n",
       "      <th></th>\n",
       "      <th>callID</th>\n",
       "      <th>callDurationInSeconds</th>\n",
       "      <th>agentsGradeLevel</th>\n",
       "      <th>callType</th>\n",
       "      <th>callEndedByAgent</th>\n",
       "      <th>id</th>\n",
       "      <th>callerID</th>\n",
       "      <th>agentID</th>\n",
       "      <th>complaintTopic</th>\n",
       "      <th>assignedTo</th>\n",
       "      <th>status</th>\n",
       "      <th>resolutionDurationInHours</th>\n",
       "    </tr>\n",
       "  </thead>\n",
       "  <tbody>\n",
       "    <tr>\n",
       "      <th>0</th>\n",
       "      <td>1</td>\n",
       "      <td>97</td>\n",
       "      <td>A</td>\n",
       "      <td>Inbound</td>\n",
       "      <td>False</td>\n",
       "      <td>1</td>\n",
       "      <td>CALLER_1</td>\n",
       "      <td>163</td>\n",
       "      <td>Billing discrepancy</td>\n",
       "      <td>122.0</td>\n",
       "      <td>CLOSED</td>\n",
       "      <td>33.0</td>\n",
       "    </tr>\n",
       "    <tr>\n",
       "      <th>1</th>\n",
       "      <td>2</td>\n",
       "      <td>64</td>\n",
       "      <td>E</td>\n",
       "      <td>in-bound</td>\n",
       "      <td>True</td>\n",
       "      <td>2</td>\n",
       "      <td>CALLER_2</td>\n",
       "      <td>133</td>\n",
       "      <td>Difficulty reaching customer support</td>\n",
       "      <td>NaN</td>\n",
       "      <td>new</td>\n",
       "      <td>NaN</td>\n",
       "    </tr>\n",
       "    <tr>\n",
       "      <th>2</th>\n",
       "      <td>3</td>\n",
       "      <td>100</td>\n",
       "      <td>C</td>\n",
       "      <td>in-bound</td>\n",
       "      <td>False</td>\n",
       "      <td>3</td>\n",
       "      <td>CALLER_3</td>\n",
       "      <td>153</td>\n",
       "      <td>Wrong item received</td>\n",
       "      <td>122.0</td>\n",
       "      <td>resolved</td>\n",
       "      <td>NaN</td>\n",
       "    </tr>\n",
       "    <tr>\n",
       "      <th>3</th>\n",
       "      <td>4</td>\n",
       "      <td>69</td>\n",
       "      <td>D</td>\n",
       "      <td>Outbound</td>\n",
       "      <td>True</td>\n",
       "      <td>4</td>\n",
       "      <td>CALLER_4</td>\n",
       "      <td>161</td>\n",
       "      <td>Unauthorized charges</td>\n",
       "      <td>151.0</td>\n",
       "      <td>pEnding</td>\n",
       "      <td>NaN</td>\n",
       "    </tr>\n",
       "    <tr>\n",
       "      <th>4</th>\n",
       "      <td>5</td>\n",
       "      <td>96</td>\n",
       "      <td>D</td>\n",
       "      <td>Inbound</td>\n",
       "      <td>True</td>\n",
       "      <td>5</td>\n",
       "      <td>CALLER_5</td>\n",
       "      <td>148</td>\n",
       "      <td>Unprofessional behavior</td>\n",
       "      <td>NaN</td>\n",
       "      <td>new</td>\n",
       "      <td>NaN</td>\n",
       "    </tr>\n",
       "  </tbody>\n",
       "</table>\n",
       "</div>"
      ],
      "text/plain": [
       "   callID  callDurationInSeconds agentsGradeLevel  callType  callEndedByAgent  \\\n",
       "0       1                     97                A   Inbound             False   \n",
       "1       2                     64                E  in-bound              True   \n",
       "2       3                    100                C  in-bound             False   \n",
       "3       4                     69                D  Outbound              True   \n",
       "4       5                     96                D   Inbound              True   \n",
       "\n",
       "   id  callerID  agentID                        complaintTopic  assignedTo  \\\n",
       "0   1  CALLER_1      163                   Billing discrepancy       122.0   \n",
       "1   2  CALLER_2      133  Difficulty reaching customer support         NaN   \n",
       "2   3  CALLER_3      153                   Wrong item received       122.0   \n",
       "3   4  CALLER_4      161                  Unauthorized charges       151.0   \n",
       "4   5  CALLER_5      148               Unprofessional behavior         NaN   \n",
       "\n",
       "     status  resolutionDurationInHours  \n",
       "0    CLOSED                       33.0  \n",
       "1       new                        NaN  \n",
       "2  resolved                        NaN  \n",
       "3   pEnding                        NaN  \n",
       "4       new                        NaN  "
      ]
     },
     "execution_count": 1381,
     "metadata": {},
     "output_type": "execute_result"
    }
   ],
   "source": [
    "# merging the data frames\n",
    "merged_df=pd.merge(detailcopy,logcopy, left_on='callID', right_on='id')\n",
    "merged_df.head(5)"
   ]
  },
  {
   "cell_type": "markdown",
   "metadata": {},
   "source": [
    "# DATA CLEANING"
   ]
  },
  {
   "cell_type": "markdown",
   "metadata": {},
   "source": [
    "### 1. Clean the inconsistencies in string columns\n"
   ]
  },
  {
   "cell_type": "code",
   "execution_count": 1382,
   "metadata": {},
   "outputs": [
    {
     "data": {
      "text/html": [
       "<div>\n",
       "<style scoped>\n",
       "    .dataframe tbody tr th:only-of-type {\n",
       "        vertical-align: middle;\n",
       "    }\n",
       "\n",
       "    .dataframe tbody tr th {\n",
       "        vertical-align: top;\n",
       "    }\n",
       "\n",
       "    .dataframe thead th {\n",
       "        text-align: right;\n",
       "    }\n",
       "</style>\n",
       "<table border=\"1\" class=\"dataframe\">\n",
       "  <thead>\n",
       "    <tr style=\"text-align: right;\">\n",
       "      <th></th>\n",
       "      <th>callID</th>\n",
       "      <th>callDurationInSeconds</th>\n",
       "      <th>agentsGradeLevel</th>\n",
       "      <th>callType</th>\n",
       "      <th>callEndedByAgent</th>\n",
       "      <th>id</th>\n",
       "      <th>callerID</th>\n",
       "      <th>agentID</th>\n",
       "      <th>complaintTopic</th>\n",
       "      <th>assignedTo</th>\n",
       "      <th>status</th>\n",
       "      <th>resolutionDurationInHours</th>\n",
       "    </tr>\n",
       "  </thead>\n",
       "  <tbody>\n",
       "    <tr>\n",
       "      <th>0</th>\n",
       "      <td>1</td>\n",
       "      <td>97</td>\n",
       "      <td>A</td>\n",
       "      <td>Inbound</td>\n",
       "      <td>False</td>\n",
       "      <td>1</td>\n",
       "      <td>CALLER_1</td>\n",
       "      <td>163</td>\n",
       "      <td>Billing discrepancy</td>\n",
       "      <td>122.0</td>\n",
       "      <td>CLOSED</td>\n",
       "      <td>33.0</td>\n",
       "    </tr>\n",
       "    <tr>\n",
       "      <th>1</th>\n",
       "      <td>2</td>\n",
       "      <td>64</td>\n",
       "      <td>E</td>\n",
       "      <td>in-bound</td>\n",
       "      <td>True</td>\n",
       "      <td>2</td>\n",
       "      <td>CALLER_2</td>\n",
       "      <td>133</td>\n",
       "      <td>Difficulty reaching customer support</td>\n",
       "      <td>NaN</td>\n",
       "      <td>new</td>\n",
       "      <td>NaN</td>\n",
       "    </tr>\n",
       "  </tbody>\n",
       "</table>\n",
       "</div>"
      ],
      "text/plain": [
       "   callID  callDurationInSeconds agentsGradeLevel  callType  callEndedByAgent  \\\n",
       "0       1                     97                A   Inbound             False   \n",
       "1       2                     64                E  in-bound              True   \n",
       "\n",
       "   id  callerID  agentID                        complaintTopic  assignedTo  \\\n",
       "0   1  CALLER_1      163                   Billing discrepancy       122.0   \n",
       "1   2  CALLER_2      133  Difficulty reaching customer support         NaN   \n",
       "\n",
       "   status  resolutionDurationInHours  \n",
       "0  CLOSED                       33.0  \n",
       "1     new                        NaN  "
      ]
     },
     "execution_count": 1382,
     "metadata": {},
     "output_type": "execute_result"
    }
   ],
   "source": [
    "merged_df.head(2)"
   ]
  },
  {
   "cell_type": "code",
   "execution_count": 1383,
   "metadata": {},
   "outputs": [],
   "source": [
    "#consistency in callType column\n",
    "merged_df['callType']=merged_df['callType'].str.replace('-', '')\n",
    "merged_df['callType']=merged_df['callType'].str.strip('')"
   ]
  },
  {
   "cell_type": "code",
   "execution_count": 1384,
   "metadata": {},
   "outputs": [
    {
     "data": {
      "text/plain": [
       "0       inbound\n",
       "1       inbound\n",
       "2       inbound\n",
       "3      outbound\n",
       "4       inbound\n",
       "         ...   \n",
       "595    outbound\n",
       "596     inbound\n",
       "597    outbound\n",
       "598     inbound\n",
       "599    outbound\n",
       "Name: callType, Length: 600, dtype: object"
      ]
     },
     "execution_count": 1384,
     "metadata": {},
     "output_type": "execute_result"
    }
   ],
   "source": [
    "#consistency in callType column\n",
    "merged_df['callType']=merged_df['callType'].apply(str.lower)\n",
    "merged_df['callType']"
   ]
  },
  {
   "cell_type": "code",
   "execution_count": 1385,
   "metadata": {},
   "outputs": [],
   "source": [
    "#consistency in status column\n",
    "merged_df['status']=merged_df['status'].apply(str.upper)"
   ]
  },
  {
   "cell_type": "markdown",
   "metadata": {},
   "source": [
    "### Changing time columns datatypes to timestamps"
   ]
  },
  {
   "cell_type": "code",
   "execution_count": 1386,
   "metadata": {},
   "outputs": [
    {
     "name": "stderr",
     "output_type": "stream",
     "text": [
      "C:\\Users\\JOY\\AppData\\Local\\Temp\\ipykernel_2768\\66569766.py:3: FutureWarning: The behavior of 'to_datetime' with 'unit' when parsing strings is deprecated. In a future version, strings will be parsed as datetime strings, matching the behavior without a 'unit'. To retain the old behavior, explicitly cast ints or floats to numeric type before calling to_datetime.\n",
      "  merged_df['callDurationInSeconds']=pd.to_datetime(merged_df['callDurationInSeconds'], unit='s')\n"
     ]
    },
    {
     "data": {
      "text/plain": [
       "0      00:01:37\n",
       "1      00:01:04\n",
       "2      00:01:40\n",
       "3      00:01:09\n",
       "4      00:01:36\n",
       "         ...   \n",
       "595    00:02:27\n",
       "596    00:01:30\n",
       "597    00:01:29\n",
       "598    00:02:26\n",
       "599    00:01:43\n",
       "Name: callDurationInSeconds, Length: 600, dtype: object"
      ]
     },
     "execution_count": 1386,
     "metadata": {},
     "output_type": "execute_result"
    }
   ],
   "source": [
    "# changing \"callDurationInSeconds\" to timestamp\n",
    "merged_df['callDurationInSeconds']=merged_df['callDurationInSeconds'].apply(str)\n",
    "merged_df['callDurationInSeconds']=pd.to_datetime(merged_df['callDurationInSeconds'], unit='s')\n",
    "merged_df['callDurationInSeconds']=merged_df['callDurationInSeconds'].dt.strftime(\"%H:%M:%S\")\n",
    "merged_df['callDurationInSeconds']\n",
    "#df['A'] = pd.to_datetime(df[\"A\"], unit='s').dt.strftime(\"%H:%M:%S\")"
   ]
  },
  {
   "cell_type": "markdown",
   "metadata": {},
   "source": [
    "### 3. Filling NaN values\n"
   ]
  },
  {
   "cell_type": "code",
   "execution_count": null,
   "metadata": {},
   "outputs": [],
   "source": [
    "# filling Null values\n",
    "# changing \"callDurationInSeconds\" to timestamp\n",
    "merged_df['resolutionDurationInHours']=merged_df['resolutionDurationInHours'].fillna(0)\n",
    "merged_df['resolutionDurationInHours']=merged_df['resolutionDurationInHours'].replace('NaN','00:00:00.000')\n",
    "merged_df['resolutionDurationInHours']=pd.to_timedelta(merged_df['resolutionDurationInHours'], unit='h')\n",
    "merged_df['resolutionDurationInHours'].head(15)\n",
    "#merged_df['resolutionDurationInHours']\n"
   ]
  },
  {
   "cell_type": "markdown",
   "metadata": {},
   "source": [
    "##### In a cases where a call was not assigned to as agent, it is assumed that the case was handled by the agent who took the call"
   ]
  },
  {
   "cell_type": "code",
   "execution_count": null,
   "metadata": {},
   "outputs": [],
   "source": [
    "# filling null values in column assigned to with agent \n",
    "#merged_df['assignedTo']=merged_df['assignedTo'].fillna(0)\n",
    "#merged_df['assignedTo']=merged_df['assignedTo'].astype(int)\n",
    "merged_df['assignedTo']=merged_df['assignedTo'].fillna(merged_df['agentID'])\n",
    "merged_df['assignedTo']=merged_df['assignedTo'].astype(int)\n",
    "merged_df['assignedTo'].head(20)"
   ]
  },
  {
   "cell_type": "code",
   "execution_count": 1389,
   "metadata": {},
   "outputs": [
    {
     "data": {
      "text/html": [
       "<div>\n",
       "<style scoped>\n",
       "    .dataframe tbody tr th:only-of-type {\n",
       "        vertical-align: middle;\n",
       "    }\n",
       "\n",
       "    .dataframe tbody tr th {\n",
       "        vertical-align: top;\n",
       "    }\n",
       "\n",
       "    .dataframe thead th {\n",
       "        text-align: right;\n",
       "    }\n",
       "</style>\n",
       "<table border=\"1\" class=\"dataframe\">\n",
       "  <thead>\n",
       "    <tr style=\"text-align: right;\">\n",
       "      <th></th>\n",
       "      <th>callID</th>\n",
       "      <th>callDurationInSeconds</th>\n",
       "      <th>agentsGradeLevel</th>\n",
       "      <th>callType</th>\n",
       "      <th>callEndedByAgent</th>\n",
       "      <th>id</th>\n",
       "      <th>callerID</th>\n",
       "      <th>agentID</th>\n",
       "      <th>complaintTopic</th>\n",
       "      <th>assignedTo</th>\n",
       "      <th>status</th>\n",
       "      <th>resolutionDurationInHours</th>\n",
       "    </tr>\n",
       "  </thead>\n",
       "  <tbody>\n",
       "    <tr>\n",
       "      <th>0</th>\n",
       "      <td>1</td>\n",
       "      <td>00:01:37</td>\n",
       "      <td>A</td>\n",
       "      <td>inbound</td>\n",
       "      <td>False</td>\n",
       "      <td>1</td>\n",
       "      <td>CALLER_1</td>\n",
       "      <td>163</td>\n",
       "      <td>Billing discrepancy</td>\n",
       "      <td>122</td>\n",
       "      <td>CLOSED</td>\n",
       "      <td>1 days 09:00:00</td>\n",
       "    </tr>\n",
       "  </tbody>\n",
       "</table>\n",
       "</div>"
      ],
      "text/plain": [
       "   callID callDurationInSeconds agentsGradeLevel callType  callEndedByAgent  \\\n",
       "0       1              00:01:37                A  inbound             False   \n",
       "\n",
       "   id  callerID  agentID       complaintTopic  assignedTo  status  \\\n",
       "0   1  CALLER_1      163  Billing discrepancy         122  CLOSED   \n",
       "\n",
       "  resolutionDurationInHours  \n",
       "0           1 days 09:00:00  "
      ]
     },
     "execution_count": 1389,
     "metadata": {},
     "output_type": "execute_result"
    }
   ],
   "source": [
    "merged_df.head(1)"
   ]
  },
  {
   "cell_type": "code",
   "execution_count": 1390,
   "metadata": {},
   "outputs": [],
   "source": [
    "merged_df.drop('id', inplace=True, axis=1)"
   ]
  },
  {
   "cell_type": "code",
   "execution_count": 1391,
   "metadata": {},
   "outputs": [
    {
     "data": {
      "text/html": [
       "<div>\n",
       "<style scoped>\n",
       "    .dataframe tbody tr th:only-of-type {\n",
       "        vertical-align: middle;\n",
       "    }\n",
       "\n",
       "    .dataframe tbody tr th {\n",
       "        vertical-align: top;\n",
       "    }\n",
       "\n",
       "    .dataframe thead th {\n",
       "        text-align: right;\n",
       "    }\n",
       "</style>\n",
       "<table border=\"1\" class=\"dataframe\">\n",
       "  <thead>\n",
       "    <tr style=\"text-align: right;\">\n",
       "      <th></th>\n",
       "      <th>callID</th>\n",
       "      <th>callDurationInSeconds</th>\n",
       "      <th>agentsGradeLevel</th>\n",
       "      <th>callType</th>\n",
       "      <th>callEndedByAgent</th>\n",
       "      <th>callerID</th>\n",
       "      <th>agentID</th>\n",
       "      <th>complaintTopic</th>\n",
       "      <th>assignedTo</th>\n",
       "      <th>status</th>\n",
       "      <th>resolutionDurationInHours</th>\n",
       "    </tr>\n",
       "  </thead>\n",
       "  <tbody>\n",
       "    <tr>\n",
       "      <th>0</th>\n",
       "      <td>1</td>\n",
       "      <td>00:01:37</td>\n",
       "      <td>A</td>\n",
       "      <td>inbound</td>\n",
       "      <td>False</td>\n",
       "      <td>CALLER_1</td>\n",
       "      <td>163</td>\n",
       "      <td>Billing discrepancy</td>\n",
       "      <td>122</td>\n",
       "      <td>CLOSED</td>\n",
       "      <td>1 days 09:00:00</td>\n",
       "    </tr>\n",
       "    <tr>\n",
       "      <th>1</th>\n",
       "      <td>2</td>\n",
       "      <td>00:01:04</td>\n",
       "      <td>E</td>\n",
       "      <td>inbound</td>\n",
       "      <td>True</td>\n",
       "      <td>CALLER_2</td>\n",
       "      <td>133</td>\n",
       "      <td>Difficulty reaching customer support</td>\n",
       "      <td>133</td>\n",
       "      <td>NEW</td>\n",
       "      <td>0 days 00:00:00</td>\n",
       "    </tr>\n",
       "    <tr>\n",
       "      <th>2</th>\n",
       "      <td>3</td>\n",
       "      <td>00:01:40</td>\n",
       "      <td>C</td>\n",
       "      <td>inbound</td>\n",
       "      <td>False</td>\n",
       "      <td>CALLER_3</td>\n",
       "      <td>153</td>\n",
       "      <td>Wrong item received</td>\n",
       "      <td>122</td>\n",
       "      <td>RESOLVED</td>\n",
       "      <td>0 days 00:00:00</td>\n",
       "    </tr>\n",
       "    <tr>\n",
       "      <th>3</th>\n",
       "      <td>4</td>\n",
       "      <td>00:01:09</td>\n",
       "      <td>D</td>\n",
       "      <td>outbound</td>\n",
       "      <td>True</td>\n",
       "      <td>CALLER_4</td>\n",
       "      <td>161</td>\n",
       "      <td>Unauthorized charges</td>\n",
       "      <td>151</td>\n",
       "      <td>PENDING</td>\n",
       "      <td>0 days 00:00:00</td>\n",
       "    </tr>\n",
       "    <tr>\n",
       "      <th>4</th>\n",
       "      <td>5</td>\n",
       "      <td>00:01:36</td>\n",
       "      <td>D</td>\n",
       "      <td>inbound</td>\n",
       "      <td>True</td>\n",
       "      <td>CALLER_5</td>\n",
       "      <td>148</td>\n",
       "      <td>Unprofessional behavior</td>\n",
       "      <td>148</td>\n",
       "      <td>NEW</td>\n",
       "      <td>0 days 00:00:00</td>\n",
       "    </tr>\n",
       "    <tr>\n",
       "      <th>...</th>\n",
       "      <td>...</td>\n",
       "      <td>...</td>\n",
       "      <td>...</td>\n",
       "      <td>...</td>\n",
       "      <td>...</td>\n",
       "      <td>...</td>\n",
       "      <td>...</td>\n",
       "      <td>...</td>\n",
       "      <td>...</td>\n",
       "      <td>...</td>\n",
       "      <td>...</td>\n",
       "    </tr>\n",
       "    <tr>\n",
       "      <th>595</th>\n",
       "      <td>596</td>\n",
       "      <td>00:02:27</td>\n",
       "      <td>E</td>\n",
       "      <td>outbound</td>\n",
       "      <td>True</td>\n",
       "      <td>CALLER_596</td>\n",
       "      <td>137</td>\n",
       "      <td>Unhelpful support</td>\n",
       "      <td>169</td>\n",
       "      <td>NEW</td>\n",
       "      <td>0 days 00:00:00</td>\n",
       "    </tr>\n",
       "    <tr>\n",
       "      <th>596</th>\n",
       "      <td>597</td>\n",
       "      <td>00:01:30</td>\n",
       "      <td>A</td>\n",
       "      <td>inbound</td>\n",
       "      <td>True</td>\n",
       "      <td>CALLER_597</td>\n",
       "      <td>159</td>\n",
       "      <td>Slow response time</td>\n",
       "      <td>159</td>\n",
       "      <td>RESOLVED</td>\n",
       "      <td>0 days 00:00:00</td>\n",
       "    </tr>\n",
       "    <tr>\n",
       "      <th>597</th>\n",
       "      <td>598</td>\n",
       "      <td>00:01:29</td>\n",
       "      <td>F</td>\n",
       "      <td>outbound</td>\n",
       "      <td>True</td>\n",
       "      <td>CALLER_598</td>\n",
       "      <td>148</td>\n",
       "      <td>Shipping delay</td>\n",
       "      <td>150</td>\n",
       "      <td>PENDING</td>\n",
       "      <td>0 days 00:00:00</td>\n",
       "    </tr>\n",
       "    <tr>\n",
       "      <th>598</th>\n",
       "      <td>599</td>\n",
       "      <td>00:02:26</td>\n",
       "      <td>D</td>\n",
       "      <td>inbound</td>\n",
       "      <td>False</td>\n",
       "      <td>CALLER_599</td>\n",
       "      <td>161</td>\n",
       "      <td>Website not working</td>\n",
       "      <td>148</td>\n",
       "      <td>PENDING</td>\n",
       "      <td>0 days 00:00:00</td>\n",
       "    </tr>\n",
       "    <tr>\n",
       "      <th>599</th>\n",
       "      <td>600</td>\n",
       "      <td>00:01:43</td>\n",
       "      <td>C</td>\n",
       "      <td>outbound</td>\n",
       "      <td>False</td>\n",
       "      <td>CALLER_600</td>\n",
       "      <td>127</td>\n",
       "      <td>Wrong item received</td>\n",
       "      <td>149</td>\n",
       "      <td>RESOLVED</td>\n",
       "      <td>0 days 00:00:00</td>\n",
       "    </tr>\n",
       "  </tbody>\n",
       "</table>\n",
       "<p>600 rows × 11 columns</p>\n",
       "</div>"
      ],
      "text/plain": [
       "     callID callDurationInSeconds agentsGradeLevel  callType  \\\n",
       "0         1              00:01:37                A   inbound   \n",
       "1         2              00:01:04                E   inbound   \n",
       "2         3              00:01:40                C   inbound   \n",
       "3         4              00:01:09                D  outbound   \n",
       "4         5              00:01:36                D   inbound   \n",
       "..      ...                   ...              ...       ...   \n",
       "595     596              00:02:27                E  outbound   \n",
       "596     597              00:01:30                A   inbound   \n",
       "597     598              00:01:29                F  outbound   \n",
       "598     599              00:02:26                D   inbound   \n",
       "599     600              00:01:43                C  outbound   \n",
       "\n",
       "     callEndedByAgent    callerID  agentID  \\\n",
       "0               False    CALLER_1      163   \n",
       "1                True    CALLER_2      133   \n",
       "2               False    CALLER_3      153   \n",
       "3                True    CALLER_4      161   \n",
       "4                True    CALLER_5      148   \n",
       "..                ...         ...      ...   \n",
       "595              True  CALLER_596      137   \n",
       "596              True  CALLER_597      159   \n",
       "597              True  CALLER_598      148   \n",
       "598             False  CALLER_599      161   \n",
       "599             False  CALLER_600      127   \n",
       "\n",
       "                           complaintTopic  assignedTo    status  \\\n",
       "0                     Billing discrepancy         122    CLOSED   \n",
       "1    Difficulty reaching customer support         133       NEW   \n",
       "2                     Wrong item received         122  RESOLVED   \n",
       "3                    Unauthorized charges         151   PENDING   \n",
       "4                 Unprofessional behavior         148       NEW   \n",
       "..                                    ...         ...       ...   \n",
       "595                     Unhelpful support         169       NEW   \n",
       "596                    Slow response time         159  RESOLVED   \n",
       "597                        Shipping delay         150   PENDING   \n",
       "598                   Website not working         148   PENDING   \n",
       "599                   Wrong item received         149  RESOLVED   \n",
       "\n",
       "    resolutionDurationInHours  \n",
       "0             1 days 09:00:00  \n",
       "1             0 days 00:00:00  \n",
       "2             0 days 00:00:00  \n",
       "3             0 days 00:00:00  \n",
       "4             0 days 00:00:00  \n",
       "..                        ...  \n",
       "595           0 days 00:00:00  \n",
       "596           0 days 00:00:00  \n",
       "597           0 days 00:00:00  \n",
       "598           0 days 00:00:00  \n",
       "599           0 days 00:00:00  \n",
       "\n",
       "[600 rows x 11 columns]"
      ]
     },
     "execution_count": 1391,
     "metadata": {},
     "output_type": "execute_result"
    }
   ],
   "source": [
    "#my_merged_df=['callID','callerID', 'callDurationInSeconds', 'agentsGradeLevel', 'callType', \n",
    "              #'callEndedByAgent', 'agentID', 'complaintTopic', 'assignedTo', 'status', 'resolutionDurationInHours']\n",
    "merged_df"
   ]
  },
  {
   "cell_type": "code",
   "execution_count": 1392,
   "metadata": {},
   "outputs": [],
   "source": [
    "#export dataframe to csv\n",
    "\n",
    "#merged_df.to_csv('merged_cleaned_data.csv', index=False)"
   ]
  },
  {
   "cell_type": "markdown",
   "metadata": {},
   "source": [
    "## LOADING CLEANED CSV TO S3"
   ]
  },
  {
   "cell_type": "code",
   "execution_count": 1393,
   "metadata": {},
   "outputs": [
    {
     "ename": "NoCredentialsError",
     "evalue": "Unable to locate credentials",
     "output_type": "error",
     "traceback": [
      "\u001b[1;31m---------------------------------------------------------------------------\u001b[0m",
      "\u001b[1;31mNoCredentialsError\u001b[0m                        Traceback (most recent call last)",
      "\u001b[1;32mc:\\Users\\JOY\\Documents\\Data Engineering python\\ETL PROJECTS\\project1\\myjupiterindex.ipynb Cell 34\u001b[0m line \u001b[0;36m3\n\u001b[0;32m      <a href='vscode-notebook-cell:/c%3A/Users/JOY/Documents/Data%20Engineering%20python/ETL%20PROJECTS/project1/myjupiterindex.ipynb#Y136sZmlsZQ%3D%3D?line=0'>1</a>\u001b[0m \u001b[39mimport\u001b[39;00m \u001b[39mboto3\u001b[39;00m\n\u001b[0;32m      <a href='vscode-notebook-cell:/c%3A/Users/JOY/Documents/Data%20Engineering%20python/ETL%20PROJECTS/project1/myjupiterindex.ipynb#Y136sZmlsZQ%3D%3D?line=1'>2</a>\u001b[0m s3 \u001b[39m=\u001b[39m boto3\u001b[39m.\u001b[39mclient(\u001b[39m'\u001b[39m\u001b[39ms3\u001b[39m\u001b[39m'\u001b[39m)\n\u001b[1;32m----> <a href='vscode-notebook-cell:/c%3A/Users/JOY/Documents/Data%20Engineering%20python/ETL%20PROJECTS/project1/myjupiterindex.ipynb#Y136sZmlsZQ%3D%3D?line=2'>3</a>\u001b[0m s3\u001b[39m.\u001b[39;49mupload_file(\u001b[39m'\u001b[39;49m\u001b[39mmerged_cleaned_data.csv\u001b[39;49m\u001b[39m'\u001b[39;49m, \u001b[39m'\u001b[39;49m\u001b[39mmyweserve\u001b[39;49m\u001b[39m'\u001b[39;49m, \u001b[39m'\u001b[39;49m\u001b[39mweservedata.jpg\u001b[39;49m\u001b[39m'\u001b[39;49m)\n",
      "File \u001b[1;32mc:\\Users\\JOY\\Documents\\Data Engineering python\\ETL PROJECTS\\project1\\venv\\Lib\\site-packages\\boto3\\s3\\inject.py:143\u001b[0m, in \u001b[0;36mupload_file\u001b[1;34m(self, Filename, Bucket, Key, ExtraArgs, Callback, Config)\u001b[0m\n\u001b[0;32m    108\u001b[0m \u001b[39m\u001b[39m\u001b[39m\"\"\"Upload a file to an S3 object.\u001b[39;00m\n\u001b[0;32m    109\u001b[0m \n\u001b[0;32m    110\u001b[0m \u001b[39mUsage::\u001b[39;00m\n\u001b[1;32m   (...)\u001b[0m\n\u001b[0;32m    140\u001b[0m \u001b[39m    transfer.\u001b[39;00m\n\u001b[0;32m    141\u001b[0m \u001b[39m\"\"\"\u001b[39;00m\n\u001b[0;32m    142\u001b[0m \u001b[39mwith\u001b[39;00m S3Transfer(\u001b[39mself\u001b[39m, Config) \u001b[39mas\u001b[39;00m transfer:\n\u001b[1;32m--> 143\u001b[0m     \u001b[39mreturn\u001b[39;00m transfer\u001b[39m.\u001b[39;49mupload_file(\n\u001b[0;32m    144\u001b[0m         filename\u001b[39m=\u001b[39;49mFilename,\n\u001b[0;32m    145\u001b[0m         bucket\u001b[39m=\u001b[39;49mBucket,\n\u001b[0;32m    146\u001b[0m         key\u001b[39m=\u001b[39;49mKey,\n\u001b[0;32m    147\u001b[0m         extra_args\u001b[39m=\u001b[39;49mExtraArgs,\n\u001b[0;32m    148\u001b[0m         callback\u001b[39m=\u001b[39;49mCallback,\n\u001b[0;32m    149\u001b[0m     )\n",
      "File \u001b[1;32mc:\\Users\\JOY\\Documents\\Data Engineering python\\ETL PROJECTS\\project1\\venv\\Lib\\site-packages\\boto3\\s3\\transfer.py:292\u001b[0m, in \u001b[0;36mS3Transfer.upload_file\u001b[1;34m(self, filename, bucket, key, callback, extra_args)\u001b[0m\n\u001b[0;32m    288\u001b[0m future \u001b[39m=\u001b[39m \u001b[39mself\u001b[39m\u001b[39m.\u001b[39m_manager\u001b[39m.\u001b[39mupload(\n\u001b[0;32m    289\u001b[0m     filename, bucket, key, extra_args, subscribers\n\u001b[0;32m    290\u001b[0m )\n\u001b[0;32m    291\u001b[0m \u001b[39mtry\u001b[39;00m:\n\u001b[1;32m--> 292\u001b[0m     future\u001b[39m.\u001b[39;49mresult()\n\u001b[0;32m    293\u001b[0m \u001b[39m# If a client error was raised, add the backwards compatibility layer\u001b[39;00m\n\u001b[0;32m    294\u001b[0m \u001b[39m# that raises a S3UploadFailedError. These specific errors were only\u001b[39;00m\n\u001b[0;32m    295\u001b[0m \u001b[39m# ever thrown for upload_parts but now can be thrown for any related\u001b[39;00m\n\u001b[0;32m    296\u001b[0m \u001b[39m# client error.\u001b[39;00m\n\u001b[0;32m    297\u001b[0m \u001b[39mexcept\u001b[39;00m ClientError \u001b[39mas\u001b[39;00m e:\n",
      "File \u001b[1;32mc:\\Users\\JOY\\Documents\\Data Engineering python\\ETL PROJECTS\\project1\\venv\\Lib\\site-packages\\s3transfer\\futures.py:103\u001b[0m, in \u001b[0;36mTransferFuture.result\u001b[1;34m(self)\u001b[0m\n\u001b[0;32m     98\u001b[0m \u001b[39mdef\u001b[39;00m \u001b[39mresult\u001b[39m(\u001b[39mself\u001b[39m):\n\u001b[0;32m     99\u001b[0m     \u001b[39mtry\u001b[39;00m:\n\u001b[0;32m    100\u001b[0m         \u001b[39m# Usually the result() method blocks until the transfer is done,\u001b[39;00m\n\u001b[0;32m    101\u001b[0m         \u001b[39m# however if a KeyboardInterrupt is raised we want want to exit\u001b[39;00m\n\u001b[0;32m    102\u001b[0m         \u001b[39m# out of this and propagate the exception.\u001b[39;00m\n\u001b[1;32m--> 103\u001b[0m         \u001b[39mreturn\u001b[39;00m \u001b[39mself\u001b[39;49m\u001b[39m.\u001b[39;49m_coordinator\u001b[39m.\u001b[39;49mresult()\n\u001b[0;32m    104\u001b[0m     \u001b[39mexcept\u001b[39;00m \u001b[39mKeyboardInterrupt\u001b[39;00m \u001b[39mas\u001b[39;00m e:\n\u001b[0;32m    105\u001b[0m         \u001b[39mself\u001b[39m\u001b[39m.\u001b[39mcancel()\n",
      "File \u001b[1;32mc:\\Users\\JOY\\Documents\\Data Engineering python\\ETL PROJECTS\\project1\\venv\\Lib\\site-packages\\s3transfer\\futures.py:266\u001b[0m, in \u001b[0;36mTransferCoordinator.result\u001b[1;34m(self)\u001b[0m\n\u001b[0;32m    263\u001b[0m \u001b[39m# Once done waiting, raise an exception if present or return the\u001b[39;00m\n\u001b[0;32m    264\u001b[0m \u001b[39m# final result.\u001b[39;00m\n\u001b[0;32m    265\u001b[0m \u001b[39mif\u001b[39;00m \u001b[39mself\u001b[39m\u001b[39m.\u001b[39m_exception:\n\u001b[1;32m--> 266\u001b[0m     \u001b[39mraise\u001b[39;00m \u001b[39mself\u001b[39m\u001b[39m.\u001b[39m_exception\n\u001b[0;32m    267\u001b[0m \u001b[39mreturn\u001b[39;00m \u001b[39mself\u001b[39m\u001b[39m.\u001b[39m_result\n",
      "File \u001b[1;32mc:\\Users\\JOY\\Documents\\Data Engineering python\\ETL PROJECTS\\project1\\venv\\Lib\\site-packages\\s3transfer\\tasks.py:139\u001b[0m, in \u001b[0;36mTask.__call__\u001b[1;34m(self)\u001b[0m\n\u001b[0;32m    135\u001b[0m     \u001b[39m# If the task is not done (really only if some other related\u001b[39;00m\n\u001b[0;32m    136\u001b[0m     \u001b[39m# task to the TransferFuture had failed) then execute the task's\u001b[39;00m\n\u001b[0;32m    137\u001b[0m     \u001b[39m# main() method.\u001b[39;00m\n\u001b[0;32m    138\u001b[0m     \u001b[39mif\u001b[39;00m \u001b[39mnot\u001b[39;00m \u001b[39mself\u001b[39m\u001b[39m.\u001b[39m_transfer_coordinator\u001b[39m.\u001b[39mdone():\n\u001b[1;32m--> 139\u001b[0m         \u001b[39mreturn\u001b[39;00m \u001b[39mself\u001b[39;49m\u001b[39m.\u001b[39;49m_execute_main(kwargs)\n\u001b[0;32m    140\u001b[0m \u001b[39mexcept\u001b[39;00m \u001b[39mException\u001b[39;00m \u001b[39mas\u001b[39;00m e:\n\u001b[0;32m    141\u001b[0m     \u001b[39mself\u001b[39m\u001b[39m.\u001b[39m_log_and_set_exception(e)\n",
      "File \u001b[1;32mc:\\Users\\JOY\\Documents\\Data Engineering python\\ETL PROJECTS\\project1\\venv\\Lib\\site-packages\\s3transfer\\tasks.py:162\u001b[0m, in \u001b[0;36mTask._execute_main\u001b[1;34m(self, kwargs)\u001b[0m\n\u001b[0;32m    159\u001b[0m \u001b[39m# Log what is about to be executed.\u001b[39;00m\n\u001b[0;32m    160\u001b[0m logger\u001b[39m.\u001b[39mdebug(\u001b[39mf\u001b[39m\u001b[39m\"\u001b[39m\u001b[39mExecuting task \u001b[39m\u001b[39m{\u001b[39;00m\u001b[39mself\u001b[39m\u001b[39m}\u001b[39;00m\u001b[39m with kwargs \u001b[39m\u001b[39m{\u001b[39;00mkwargs_to_display\u001b[39m}\u001b[39;00m\u001b[39m\"\u001b[39m)\n\u001b[1;32m--> 162\u001b[0m return_value \u001b[39m=\u001b[39m \u001b[39mself\u001b[39;49m\u001b[39m.\u001b[39;49m_main(\u001b[39m*\u001b[39;49m\u001b[39m*\u001b[39;49mkwargs)\n\u001b[0;32m    163\u001b[0m \u001b[39m# If the task is the final task, then set the TransferFuture's\u001b[39;00m\n\u001b[0;32m    164\u001b[0m \u001b[39m# value to the return value from main().\u001b[39;00m\n\u001b[0;32m    165\u001b[0m \u001b[39mif\u001b[39;00m \u001b[39mself\u001b[39m\u001b[39m.\u001b[39m_is_final:\n",
      "File \u001b[1;32mc:\\Users\\JOY\\Documents\\Data Engineering python\\ETL PROJECTS\\project1\\venv\\Lib\\site-packages\\s3transfer\\upload.py:764\u001b[0m, in \u001b[0;36mPutObjectTask._main\u001b[1;34m(self, client, fileobj, bucket, key, extra_args)\u001b[0m\n\u001b[0;32m    755\u001b[0m \u001b[39m\u001b[39m\u001b[39m\"\"\"\u001b[39;00m\n\u001b[0;32m    756\u001b[0m \u001b[39m:param client: The client to use when calling PutObject\u001b[39;00m\n\u001b[0;32m    757\u001b[0m \u001b[39m:param fileobj: The file to upload.\u001b[39;00m\n\u001b[1;32m   (...)\u001b[0m\n\u001b[0;32m    761\u001b[0m \u001b[39m    used in the upload.\u001b[39;00m\n\u001b[0;32m    762\u001b[0m \u001b[39m\"\"\"\u001b[39;00m\n\u001b[0;32m    763\u001b[0m \u001b[39mwith\u001b[39;00m fileobj \u001b[39mas\u001b[39;00m body:\n\u001b[1;32m--> 764\u001b[0m     client\u001b[39m.\u001b[39;49mput_object(Bucket\u001b[39m=\u001b[39;49mbucket, Key\u001b[39m=\u001b[39;49mkey, Body\u001b[39m=\u001b[39;49mbody, \u001b[39m*\u001b[39;49m\u001b[39m*\u001b[39;49mextra_args)\n",
      "File \u001b[1;32mc:\\Users\\JOY\\Documents\\Data Engineering python\\ETL PROJECTS\\project1\\venv\\Lib\\site-packages\\botocore\\client.py:535\u001b[0m, in \u001b[0;36mClientCreator._create_api_method.<locals>._api_call\u001b[1;34m(self, *args, **kwargs)\u001b[0m\n\u001b[0;32m    531\u001b[0m     \u001b[39mraise\u001b[39;00m \u001b[39mTypeError\u001b[39;00m(\n\u001b[0;32m    532\u001b[0m         \u001b[39mf\u001b[39m\u001b[39m\"\u001b[39m\u001b[39m{\u001b[39;00mpy_operation_name\u001b[39m}\u001b[39;00m\u001b[39m() only accepts keyword arguments.\u001b[39m\u001b[39m\"\u001b[39m\n\u001b[0;32m    533\u001b[0m     )\n\u001b[0;32m    534\u001b[0m \u001b[39m# The \"self\" in this scope is referring to the BaseClient.\u001b[39;00m\n\u001b[1;32m--> 535\u001b[0m \u001b[39mreturn\u001b[39;00m \u001b[39mself\u001b[39;49m\u001b[39m.\u001b[39;49m_make_api_call(operation_name, kwargs)\n",
      "File \u001b[1;32mc:\\Users\\JOY\\Documents\\Data Engineering python\\ETL PROJECTS\\project1\\venv\\Lib\\site-packages\\botocore\\client.py:963\u001b[0m, in \u001b[0;36mBaseClient._make_api_call\u001b[1;34m(self, operation_name, api_params)\u001b[0m\n\u001b[0;32m    959\u001b[0m     maybe_compress_request(\n\u001b[0;32m    960\u001b[0m         \u001b[39mself\u001b[39m\u001b[39m.\u001b[39mmeta\u001b[39m.\u001b[39mconfig, request_dict, operation_model\n\u001b[0;32m    961\u001b[0m     )\n\u001b[0;32m    962\u001b[0m     apply_request_checksum(request_dict)\n\u001b[1;32m--> 963\u001b[0m     http, parsed_response \u001b[39m=\u001b[39m \u001b[39mself\u001b[39;49m\u001b[39m.\u001b[39;49m_make_request(\n\u001b[0;32m    964\u001b[0m         operation_model, request_dict, request_context\n\u001b[0;32m    965\u001b[0m     )\n\u001b[0;32m    967\u001b[0m \u001b[39mself\u001b[39m\u001b[39m.\u001b[39mmeta\u001b[39m.\u001b[39mevents\u001b[39m.\u001b[39memit(\n\u001b[0;32m    968\u001b[0m     \u001b[39m'\u001b[39m\u001b[39mafter-call.\u001b[39m\u001b[39m{service_id}\u001b[39;00m\u001b[39m.\u001b[39m\u001b[39m{operation_name}\u001b[39;00m\u001b[39m'\u001b[39m\u001b[39m.\u001b[39mformat(\n\u001b[0;32m    969\u001b[0m         service_id\u001b[39m=\u001b[39mservice_id, operation_name\u001b[39m=\u001b[39moperation_name\n\u001b[1;32m   (...)\u001b[0m\n\u001b[0;32m    974\u001b[0m     context\u001b[39m=\u001b[39mrequest_context,\n\u001b[0;32m    975\u001b[0m )\n\u001b[0;32m    977\u001b[0m \u001b[39mif\u001b[39;00m http\u001b[39m.\u001b[39mstatus_code \u001b[39m>\u001b[39m\u001b[39m=\u001b[39m \u001b[39m300\u001b[39m:\n",
      "File \u001b[1;32mc:\\Users\\JOY\\Documents\\Data Engineering python\\ETL PROJECTS\\project1\\venv\\Lib\\site-packages\\botocore\\client.py:986\u001b[0m, in \u001b[0;36mBaseClient._make_request\u001b[1;34m(self, operation_model, request_dict, request_context)\u001b[0m\n\u001b[0;32m    984\u001b[0m \u001b[39mdef\u001b[39;00m \u001b[39m_make_request\u001b[39m(\u001b[39mself\u001b[39m, operation_model, request_dict, request_context):\n\u001b[0;32m    985\u001b[0m     \u001b[39mtry\u001b[39;00m:\n\u001b[1;32m--> 986\u001b[0m         \u001b[39mreturn\u001b[39;00m \u001b[39mself\u001b[39;49m\u001b[39m.\u001b[39;49m_endpoint\u001b[39m.\u001b[39;49mmake_request(operation_model, request_dict)\n\u001b[0;32m    987\u001b[0m     \u001b[39mexcept\u001b[39;00m \u001b[39mException\u001b[39;00m \u001b[39mas\u001b[39;00m e:\n\u001b[0;32m    988\u001b[0m         \u001b[39mself\u001b[39m\u001b[39m.\u001b[39mmeta\u001b[39m.\u001b[39mevents\u001b[39m.\u001b[39memit(\n\u001b[0;32m    989\u001b[0m             \u001b[39m'\u001b[39m\u001b[39mafter-call-error.\u001b[39m\u001b[39m{service_id}\u001b[39;00m\u001b[39m.\u001b[39m\u001b[39m{operation_name}\u001b[39;00m\u001b[39m'\u001b[39m\u001b[39m.\u001b[39mformat(\n\u001b[0;32m    990\u001b[0m                 service_id\u001b[39m=\u001b[39m\u001b[39mself\u001b[39m\u001b[39m.\u001b[39m_service_model\u001b[39m.\u001b[39mservice_id\u001b[39m.\u001b[39mhyphenize(),\n\u001b[1;32m   (...)\u001b[0m\n\u001b[0;32m    994\u001b[0m             context\u001b[39m=\u001b[39mrequest_context,\n\u001b[0;32m    995\u001b[0m         )\n",
      "File \u001b[1;32mc:\\Users\\JOY\\Documents\\Data Engineering python\\ETL PROJECTS\\project1\\venv\\Lib\\site-packages\\botocore\\endpoint.py:119\u001b[0m, in \u001b[0;36mEndpoint.make_request\u001b[1;34m(self, operation_model, request_dict)\u001b[0m\n\u001b[0;32m    113\u001b[0m \u001b[39mdef\u001b[39;00m \u001b[39mmake_request\u001b[39m(\u001b[39mself\u001b[39m, operation_model, request_dict):\n\u001b[0;32m    114\u001b[0m     logger\u001b[39m.\u001b[39mdebug(\n\u001b[0;32m    115\u001b[0m         \u001b[39m\"\u001b[39m\u001b[39mMaking request for \u001b[39m\u001b[39m%s\u001b[39;00m\u001b[39m with params: \u001b[39m\u001b[39m%s\u001b[39;00m\u001b[39m\"\u001b[39m,\n\u001b[0;32m    116\u001b[0m         operation_model,\n\u001b[0;32m    117\u001b[0m         request_dict,\n\u001b[0;32m    118\u001b[0m     )\n\u001b[1;32m--> 119\u001b[0m     \u001b[39mreturn\u001b[39;00m \u001b[39mself\u001b[39;49m\u001b[39m.\u001b[39;49m_send_request(request_dict, operation_model)\n",
      "File \u001b[1;32mc:\\Users\\JOY\\Documents\\Data Engineering python\\ETL PROJECTS\\project1\\venv\\Lib\\site-packages\\botocore\\endpoint.py:198\u001b[0m, in \u001b[0;36mEndpoint._send_request\u001b[1;34m(self, request_dict, operation_model)\u001b[0m\n\u001b[0;32m    196\u001b[0m context \u001b[39m=\u001b[39m request_dict[\u001b[39m'\u001b[39m\u001b[39mcontext\u001b[39m\u001b[39m'\u001b[39m]\n\u001b[0;32m    197\u001b[0m \u001b[39mself\u001b[39m\u001b[39m.\u001b[39m_update_retries_context(context, attempts)\n\u001b[1;32m--> 198\u001b[0m request \u001b[39m=\u001b[39m \u001b[39mself\u001b[39;49m\u001b[39m.\u001b[39;49mcreate_request(request_dict, operation_model)\n\u001b[0;32m    199\u001b[0m success_response, exception \u001b[39m=\u001b[39m \u001b[39mself\u001b[39m\u001b[39m.\u001b[39m_get_response(\n\u001b[0;32m    200\u001b[0m     request, operation_model, context\n\u001b[0;32m    201\u001b[0m )\n\u001b[0;32m    202\u001b[0m \u001b[39mwhile\u001b[39;00m \u001b[39mself\u001b[39m\u001b[39m.\u001b[39m_needs_retry(\n\u001b[0;32m    203\u001b[0m     attempts,\n\u001b[0;32m    204\u001b[0m     operation_model,\n\u001b[1;32m   (...)\u001b[0m\n\u001b[0;32m    207\u001b[0m     exception,\n\u001b[0;32m    208\u001b[0m ):\n",
      "File \u001b[1;32mc:\\Users\\JOY\\Documents\\Data Engineering python\\ETL PROJECTS\\project1\\venv\\Lib\\site-packages\\botocore\\endpoint.py:134\u001b[0m, in \u001b[0;36mEndpoint.create_request\u001b[1;34m(self, params, operation_model)\u001b[0m\n\u001b[0;32m    130\u001b[0m     service_id \u001b[39m=\u001b[39m operation_model\u001b[39m.\u001b[39mservice_model\u001b[39m.\u001b[39mservice_id\u001b[39m.\u001b[39mhyphenize()\n\u001b[0;32m    131\u001b[0m     event_name \u001b[39m=\u001b[39m \u001b[39m'\u001b[39m\u001b[39mrequest-created.\u001b[39m\u001b[39m{service_id}\u001b[39;00m\u001b[39m.\u001b[39m\u001b[39m{op_name}\u001b[39;00m\u001b[39m'\u001b[39m\u001b[39m.\u001b[39mformat(\n\u001b[0;32m    132\u001b[0m         service_id\u001b[39m=\u001b[39mservice_id, op_name\u001b[39m=\u001b[39moperation_model\u001b[39m.\u001b[39mname\n\u001b[0;32m    133\u001b[0m     )\n\u001b[1;32m--> 134\u001b[0m     \u001b[39mself\u001b[39;49m\u001b[39m.\u001b[39;49m_event_emitter\u001b[39m.\u001b[39;49memit(\n\u001b[0;32m    135\u001b[0m         event_name,\n\u001b[0;32m    136\u001b[0m         request\u001b[39m=\u001b[39;49mrequest,\n\u001b[0;32m    137\u001b[0m         operation_name\u001b[39m=\u001b[39;49moperation_model\u001b[39m.\u001b[39;49mname,\n\u001b[0;32m    138\u001b[0m     )\n\u001b[0;32m    139\u001b[0m prepared_request \u001b[39m=\u001b[39m \u001b[39mself\u001b[39m\u001b[39m.\u001b[39mprepare_request(request)\n\u001b[0;32m    140\u001b[0m \u001b[39mreturn\u001b[39;00m prepared_request\n",
      "File \u001b[1;32mc:\\Users\\JOY\\Documents\\Data Engineering python\\ETL PROJECTS\\project1\\venv\\Lib\\site-packages\\botocore\\hooks.py:412\u001b[0m, in \u001b[0;36mEventAliaser.emit\u001b[1;34m(self, event_name, **kwargs)\u001b[0m\n\u001b[0;32m    410\u001b[0m \u001b[39mdef\u001b[39;00m \u001b[39memit\u001b[39m(\u001b[39mself\u001b[39m, event_name, \u001b[39m*\u001b[39m\u001b[39m*\u001b[39mkwargs):\n\u001b[0;32m    411\u001b[0m     aliased_event_name \u001b[39m=\u001b[39m \u001b[39mself\u001b[39m\u001b[39m.\u001b[39m_alias_event_name(event_name)\n\u001b[1;32m--> 412\u001b[0m     \u001b[39mreturn\u001b[39;00m \u001b[39mself\u001b[39;49m\u001b[39m.\u001b[39;49m_emitter\u001b[39m.\u001b[39;49memit(aliased_event_name, \u001b[39m*\u001b[39;49m\u001b[39m*\u001b[39;49mkwargs)\n",
      "File \u001b[1;32mc:\\Users\\JOY\\Documents\\Data Engineering python\\ETL PROJECTS\\project1\\venv\\Lib\\site-packages\\botocore\\hooks.py:256\u001b[0m, in \u001b[0;36mHierarchicalEmitter.emit\u001b[1;34m(self, event_name, **kwargs)\u001b[0m\n\u001b[0;32m    245\u001b[0m \u001b[39mdef\u001b[39;00m \u001b[39memit\u001b[39m(\u001b[39mself\u001b[39m, event_name, \u001b[39m*\u001b[39m\u001b[39m*\u001b[39mkwargs):\n\u001b[0;32m    246\u001b[0m \u001b[39m    \u001b[39m\u001b[39m\"\"\"\u001b[39;00m\n\u001b[0;32m    247\u001b[0m \u001b[39m    Emit an event by name with arguments passed as keyword args.\u001b[39;00m\n\u001b[0;32m    248\u001b[0m \n\u001b[1;32m   (...)\u001b[0m\n\u001b[0;32m    254\u001b[0m \u001b[39m             handlers.\u001b[39;00m\n\u001b[0;32m    255\u001b[0m \u001b[39m    \"\"\"\u001b[39;00m\n\u001b[1;32m--> 256\u001b[0m     \u001b[39mreturn\u001b[39;00m \u001b[39mself\u001b[39;49m\u001b[39m.\u001b[39;49m_emit(event_name, kwargs)\n",
      "File \u001b[1;32mc:\\Users\\JOY\\Documents\\Data Engineering python\\ETL PROJECTS\\project1\\venv\\Lib\\site-packages\\botocore\\hooks.py:239\u001b[0m, in \u001b[0;36mHierarchicalEmitter._emit\u001b[1;34m(self, event_name, kwargs, stop_on_response)\u001b[0m\n\u001b[0;32m    237\u001b[0m \u001b[39mfor\u001b[39;00m handler \u001b[39min\u001b[39;00m handlers_to_call:\n\u001b[0;32m    238\u001b[0m     logger\u001b[39m.\u001b[39mdebug(\u001b[39m'\u001b[39m\u001b[39mEvent \u001b[39m\u001b[39m%s\u001b[39;00m\u001b[39m: calling handler \u001b[39m\u001b[39m%s\u001b[39;00m\u001b[39m'\u001b[39m, event_name, handler)\n\u001b[1;32m--> 239\u001b[0m     response \u001b[39m=\u001b[39m handler(\u001b[39m*\u001b[39;49m\u001b[39m*\u001b[39;49mkwargs)\n\u001b[0;32m    240\u001b[0m     responses\u001b[39m.\u001b[39mappend((handler, response))\n\u001b[0;32m    241\u001b[0m     \u001b[39mif\u001b[39;00m stop_on_response \u001b[39mand\u001b[39;00m response \u001b[39mis\u001b[39;00m \u001b[39mnot\u001b[39;00m \u001b[39mNone\u001b[39;00m:\n",
      "File \u001b[1;32mc:\\Users\\JOY\\Documents\\Data Engineering python\\ETL PROJECTS\\project1\\venv\\Lib\\site-packages\\botocore\\signers.py:105\u001b[0m, in \u001b[0;36mRequestSigner.handler\u001b[1;34m(self, operation_name, request, **kwargs)\u001b[0m\n\u001b[0;32m    100\u001b[0m \u001b[39mdef\u001b[39;00m \u001b[39mhandler\u001b[39m(\u001b[39mself\u001b[39m, operation_name\u001b[39m=\u001b[39m\u001b[39mNone\u001b[39;00m, request\u001b[39m=\u001b[39m\u001b[39mNone\u001b[39;00m, \u001b[39m*\u001b[39m\u001b[39m*\u001b[39mkwargs):\n\u001b[0;32m    101\u001b[0m     \u001b[39m# This is typically hooked up to the \"request-created\" event\u001b[39;00m\n\u001b[0;32m    102\u001b[0m     \u001b[39m# from a client's event emitter.  When a new request is created\u001b[39;00m\n\u001b[0;32m    103\u001b[0m     \u001b[39m# this method is invoked to sign the request.\u001b[39;00m\n\u001b[0;32m    104\u001b[0m     \u001b[39m# Don't call this method directly.\u001b[39;00m\n\u001b[1;32m--> 105\u001b[0m     \u001b[39mreturn\u001b[39;00m \u001b[39mself\u001b[39;49m\u001b[39m.\u001b[39;49msign(operation_name, request)\n",
      "File \u001b[1;32mc:\\Users\\JOY\\Documents\\Data Engineering python\\ETL PROJECTS\\project1\\venv\\Lib\\site-packages\\botocore\\signers.py:189\u001b[0m, in \u001b[0;36mRequestSigner.sign\u001b[1;34m(self, operation_name, request, region_name, signing_type, expires_in, signing_name)\u001b[0m\n\u001b[0;32m    186\u001b[0m     \u001b[39melse\u001b[39;00m:\n\u001b[0;32m    187\u001b[0m         \u001b[39mraise\u001b[39;00m e\n\u001b[1;32m--> 189\u001b[0m auth\u001b[39m.\u001b[39;49madd_auth(request)\n",
      "File \u001b[1;32mc:\\Users\\JOY\\Documents\\Data Engineering python\\ETL PROJECTS\\project1\\venv\\Lib\\site-packages\\botocore\\auth.py:418\u001b[0m, in \u001b[0;36mSigV4Auth.add_auth\u001b[1;34m(self, request)\u001b[0m\n\u001b[0;32m    416\u001b[0m \u001b[39mdef\u001b[39;00m \u001b[39madd_auth\u001b[39m(\u001b[39mself\u001b[39m, request):\n\u001b[0;32m    417\u001b[0m     \u001b[39mif\u001b[39;00m \u001b[39mself\u001b[39m\u001b[39m.\u001b[39mcredentials \u001b[39mis\u001b[39;00m \u001b[39mNone\u001b[39;00m:\n\u001b[1;32m--> 418\u001b[0m         \u001b[39mraise\u001b[39;00m NoCredentialsError()\n\u001b[0;32m    419\u001b[0m     datetime_now \u001b[39m=\u001b[39m datetime\u001b[39m.\u001b[39mdatetime\u001b[39m.\u001b[39mutcnow()\n\u001b[0;32m    420\u001b[0m     request\u001b[39m.\u001b[39mcontext[\u001b[39m'\u001b[39m\u001b[39mtimestamp\u001b[39m\u001b[39m'\u001b[39m] \u001b[39m=\u001b[39m datetime_now\u001b[39m.\u001b[39mstrftime(SIGV4_TIMESTAMP)\n",
      "\u001b[1;31mNoCredentialsError\u001b[0m: Unable to locate credentials"
     ]
    }
   ],
   "source": [
    "import boto3\n",
    "s3 = boto3.client('s3')\n",
    "s3.upload_file('merged_cleaned_data.csv', 'myweserve', 'weservedata.jpg')\n"
   ]
  },
  {
   "cell_type": "code",
   "execution_count": null,
   "metadata": {},
   "outputs": [],
   "source": []
  }
 ],
 "metadata": {
  "kernelspec": {
   "display_name": "venv",
   "language": "python",
   "name": "python3"
  },
  "language_info": {
   "codemirror_mode": {
    "name": "ipython",
    "version": 3
   },
   "file_extension": ".py",
   "mimetype": "text/x-python",
   "name": "python",
   "nbconvert_exporter": "python",
   "pygments_lexer": "ipython3",
   "version": "3.11.6"
  }
 },
 "nbformat": 4,
 "nbformat_minor": 2
}
