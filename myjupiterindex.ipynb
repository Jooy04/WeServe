{
 "cells": [
  {
   "cell_type": "code",
   "execution_count": 1473,
   "metadata": {},
   "outputs": [],
   "source": [
    "import pandas as pd"
   ]
  },
  {
   "cell_type": "markdown",
   "metadata": {},
   "source": [
    "# EXTRACTION"
   ]
  },
  {
   "cell_type": "markdown",
   "metadata": {},
   "source": [
    "### 1. Extraction of data from excel to dataframe using panda\n",
    "### 2. create a workcopy of the extracted data"
   ]
  },
  {
   "cell_type": "code",
   "execution_count": 1474,
   "metadata": {},
   "outputs": [
    {
     "data": {
      "text/html": [
       "<div>\n",
       "<style scoped>\n",
       "    .dataframe tbody tr th:only-of-type {\n",
       "        vertical-align: middle;\n",
       "    }\n",
       "\n",
       "    .dataframe tbody tr th {\n",
       "        vertical-align: top;\n",
       "    }\n",
       "\n",
       "    .dataframe thead th {\n",
       "        text-align: right;\n",
       "    }\n",
       "</style>\n",
       "<table border=\"1\" class=\"dataframe\">\n",
       "  <thead>\n",
       "    <tr style=\"text-align: right;\">\n",
       "      <th></th>\n",
       "      <th>id</th>\n",
       "      <th>callerID</th>\n",
       "      <th>agentID</th>\n",
       "      <th>complaintTopic</th>\n",
       "      <th>assignedTo</th>\n",
       "      <th>status</th>\n",
       "      <th>resolutionDurationInHours</th>\n",
       "    </tr>\n",
       "  </thead>\n",
       "  <tbody>\n",
       "    <tr>\n",
       "      <th>0</th>\n",
       "      <td>1</td>\n",
       "      <td>CALLER_1</td>\n",
       "      <td>163</td>\n",
       "      <td>Billing discrepancy</td>\n",
       "      <td>122.0</td>\n",
       "      <td>CLOSED</td>\n",
       "      <td>33.0</td>\n",
       "    </tr>\n",
       "    <tr>\n",
       "      <th>1</th>\n",
       "      <td>2</td>\n",
       "      <td>CALLER_2</td>\n",
       "      <td>133</td>\n",
       "      <td>Difficulty reaching customer support</td>\n",
       "      <td>NaN</td>\n",
       "      <td>new</td>\n",
       "      <td>NaN</td>\n",
       "    </tr>\n",
       "    <tr>\n",
       "      <th>2</th>\n",
       "      <td>3</td>\n",
       "      <td>CALLER_3</td>\n",
       "      <td>153</td>\n",
       "      <td>Wrong item received</td>\n",
       "      <td>122.0</td>\n",
       "      <td>resolved</td>\n",
       "      <td>NaN</td>\n",
       "    </tr>\n",
       "    <tr>\n",
       "      <th>3</th>\n",
       "      <td>4</td>\n",
       "      <td>CALLER_4</td>\n",
       "      <td>161</td>\n",
       "      <td>Unauthorized charges</td>\n",
       "      <td>151.0</td>\n",
       "      <td>pEnding</td>\n",
       "      <td>NaN</td>\n",
       "    </tr>\n",
       "    <tr>\n",
       "      <th>4</th>\n",
       "      <td>5</td>\n",
       "      <td>CALLER_5</td>\n",
       "      <td>148</td>\n",
       "      <td>Unprofessional behavior</td>\n",
       "      <td>NaN</td>\n",
       "      <td>new</td>\n",
       "      <td>NaN</td>\n",
       "    </tr>\n",
       "  </tbody>\n",
       "</table>\n",
       "</div>"
      ],
      "text/plain": [
       "   id  callerID  agentID                        complaintTopic  assignedTo  \\\n",
       "0   1  CALLER_1      163                   Billing discrepancy       122.0   \n",
       "1   2  CALLER_2      133  Difficulty reaching customer support         NaN   \n",
       "2   3  CALLER_3      153                   Wrong item received       122.0   \n",
       "3   4  CALLER_4      161                  Unauthorized charges       151.0   \n",
       "4   5  CALLER_5      148               Unprofessional behavior         NaN   \n",
       "\n",
       "     status  resolutionDurationInHours  \n",
       "0    CLOSED                       33.0  \n",
       "1       new                        NaN  \n",
       "2  resolved                        NaN  \n",
       "3   pEnding                        NaN  \n",
       "4       new                        NaN  "
      ]
     },
     "execution_count": 1474,
     "metadata": {},
     "output_type": "execute_result"
    }
   ],
   "source": [
    "#extracting call log data\n",
    "call_log= pd.read_csv(r\"C:\\Users\\JOY\\Documents\\Data Engineering python\\ETL PROJECTS\\Final Project\\Final Project\\call log.csv\")\n",
    "call_log.head()"
   ]
  },
  {
   "cell_type": "code",
   "execution_count": 1475,
   "metadata": {},
   "outputs": [],
   "source": [
    "# creating a copy of call log data \n",
    "\n",
    "logcopy=call_log.copy()"
   ]
  },
  {
   "cell_type": "code",
   "execution_count": 1476,
   "metadata": {},
   "outputs": [],
   "source": [
    "# creating a copy of call details data\n",
    "call_details= pd.read_csv(r\"C:\\Users\\JOY\\Documents\\Data Engineering python\\ETL PROJECTS\\Final Project\\Final Project\\call details.csv\")\n"
   ]
  },
  {
   "cell_type": "code",
   "execution_count": 1477,
   "metadata": {},
   "outputs": [],
   "source": [
    "# creating a copy of call details data \n",
    "detailcopy= call_details.copy()"
   ]
  },
  {
   "cell_type": "code",
   "execution_count": 1478,
   "metadata": {},
   "outputs": [
    {
     "data": {
      "text/html": [
       "<div>\n",
       "<style scoped>\n",
       "    .dataframe tbody tr th:only-of-type {\n",
       "        vertical-align: middle;\n",
       "    }\n",
       "\n",
       "    .dataframe tbody tr th {\n",
       "        vertical-align: top;\n",
       "    }\n",
       "\n",
       "    .dataframe thead th {\n",
       "        text-align: right;\n",
       "    }\n",
       "</style>\n",
       "<table border=\"1\" class=\"dataframe\">\n",
       "  <thead>\n",
       "    <tr style=\"text-align: right;\">\n",
       "      <th></th>\n",
       "      <th>callID</th>\n",
       "      <th>callDurationInSeconds</th>\n",
       "      <th>agentsGradeLevel</th>\n",
       "      <th>callType</th>\n",
       "      <th>callEndedByAgent</th>\n",
       "    </tr>\n",
       "  </thead>\n",
       "  <tbody>\n",
       "    <tr>\n",
       "      <th>0</th>\n",
       "      <td>ageentsGradeLevel</td>\n",
       "      <td>97</td>\n",
       "      <td>A</td>\n",
       "      <td>Inbound</td>\n",
       "      <td>False</td>\n",
       "    </tr>\n",
       "    <tr>\n",
       "      <th>1</th>\n",
       "      <td>2</td>\n",
       "      <td>64</td>\n",
       "      <td>E</td>\n",
       "      <td>in-bound</td>\n",
       "      <td>True</td>\n",
       "    </tr>\n",
       "    <tr>\n",
       "      <th>2</th>\n",
       "      <td>3</td>\n",
       "      <td>100</td>\n",
       "      <td>C</td>\n",
       "      <td>in-bound</td>\n",
       "      <td>False</td>\n",
       "    </tr>\n",
       "    <tr>\n",
       "      <th>3</th>\n",
       "      <td>4</td>\n",
       "      <td>69</td>\n",
       "      <td>D</td>\n",
       "      <td>Outbound</td>\n",
       "      <td>True</td>\n",
       "    </tr>\n",
       "    <tr>\n",
       "      <th>4</th>\n",
       "      <td>5</td>\n",
       "      <td>96</td>\n",
       "      <td>D</td>\n",
       "      <td>Inbound</td>\n",
       "      <td>True</td>\n",
       "    </tr>\n",
       "  </tbody>\n",
       "</table>\n",
       "</div>"
      ],
      "text/plain": [
       "              callID  callDurationInSeconds agentsGradeLevel  callType  \\\n",
       "0  ageentsGradeLevel                     97                A   Inbound   \n",
       "1                  2                     64                E  in-bound   \n",
       "2                  3                    100                C  in-bound   \n",
       "3                  4                     69                D  Outbound   \n",
       "4                  5                     96                D   Inbound   \n",
       "\n",
       "   callEndedByAgent  \n",
       "0             False  \n",
       "1              True  \n",
       "2             False  \n",
       "3              True  \n",
       "4              True  "
      ]
     },
     "execution_count": 1478,
     "metadata": {},
     "output_type": "execute_result"
    }
   ],
   "source": [
    "detailcopy.head()"
   ]
  },
  {
   "cell_type": "markdown",
   "metadata": {},
   "source": [
    "# Merging both data frames"
   ]
  },
  {
   "cell_type": "markdown",
   "metadata": {},
   "source": [
    "##### Change the datatype on detailcopy from strings to int"
   ]
  },
  {
   "cell_type": "code",
   "execution_count": 1479,
   "metadata": {},
   "outputs": [
    {
     "name": "stderr",
     "output_type": "stream",
     "text": [
      "C:\\Users\\JOY\\AppData\\Local\\Temp\\ipykernel_2768\\1135166459.py:2: SettingWithCopyWarning: \n",
      "A value is trying to be set on a copy of a slice from a DataFrame\n",
      "\n",
      "See the caveats in the documentation: https://pandas.pydata.org/pandas-docs/stable/user_guide/indexing.html#returning-a-view-versus-a-copy\n",
      "  detailcopy['callID'][0]=1\n"
     ]
    },
    {
     "data": {
      "text/html": [
       "<div>\n",
       "<style scoped>\n",
       "    .dataframe tbody tr th:only-of-type {\n",
       "        vertical-align: middle;\n",
       "    }\n",
       "\n",
       "    .dataframe tbody tr th {\n",
       "        vertical-align: top;\n",
       "    }\n",
       "\n",
       "    .dataframe thead th {\n",
       "        text-align: right;\n",
       "    }\n",
       "</style>\n",
       "<table border=\"1\" class=\"dataframe\">\n",
       "  <thead>\n",
       "    <tr style=\"text-align: right;\">\n",
       "      <th></th>\n",
       "      <th>callID</th>\n",
       "      <th>callDurationInSeconds</th>\n",
       "      <th>agentsGradeLevel</th>\n",
       "      <th>callType</th>\n",
       "      <th>callEndedByAgent</th>\n",
       "    </tr>\n",
       "  </thead>\n",
       "  <tbody>\n",
       "    <tr>\n",
       "      <th>0</th>\n",
       "      <td>1</td>\n",
       "      <td>97</td>\n",
       "      <td>A</td>\n",
       "      <td>Inbound</td>\n",
       "      <td>False</td>\n",
       "    </tr>\n",
       "    <tr>\n",
       "      <th>1</th>\n",
       "      <td>2</td>\n",
       "      <td>64</td>\n",
       "      <td>E</td>\n",
       "      <td>in-bound</td>\n",
       "      <td>True</td>\n",
       "    </tr>\n",
       "    <tr>\n",
       "      <th>2</th>\n",
       "      <td>3</td>\n",
       "      <td>100</td>\n",
       "      <td>C</td>\n",
       "      <td>in-bound</td>\n",
       "      <td>False</td>\n",
       "    </tr>\n",
       "    <tr>\n",
       "      <th>3</th>\n",
       "      <td>4</td>\n",
       "      <td>69</td>\n",
       "      <td>D</td>\n",
       "      <td>Outbound</td>\n",
       "      <td>True</td>\n",
       "    </tr>\n",
       "    <tr>\n",
       "      <th>4</th>\n",
       "      <td>5</td>\n",
       "      <td>96</td>\n",
       "      <td>D</td>\n",
       "      <td>Inbound</td>\n",
       "      <td>True</td>\n",
       "    </tr>\n",
       "  </tbody>\n",
       "</table>\n",
       "</div>"
      ],
      "text/plain": [
       "  callID  callDurationInSeconds agentsGradeLevel  callType  callEndedByAgent\n",
       "0      1                     97                A   Inbound             False\n",
       "1      2                     64                E  in-bound              True\n",
       "2      3                    100                C  in-bound             False\n",
       "3      4                     69                D  Outbound              True\n",
       "4      5                     96                D   Inbound              True"
      ]
     },
     "execution_count": 1479,
     "metadata": {},
     "output_type": "execute_result"
    }
   ],
   "source": [
    "#cleaning the callID column with a wrong value of \"ageentGradelevel\"\n",
    "detailcopy['callID'][0]=1\n",
    "detailcopy.head()"
   ]
  },
  {
   "cell_type": "code",
   "execution_count": 1480,
   "metadata": {},
   "outputs": [
    {
     "data": {
      "text/plain": [
       "callID                   object\n",
       "callDurationInSeconds     int64\n",
       "agentsGradeLevel         object\n",
       "callType                 object\n",
       "callEndedByAgent           bool\n",
       "dtype: object"
      ]
     },
     "execution_count": 1480,
     "metadata": {},
     "output_type": "execute_result"
    }
   ],
   "source": [
    "detailcopy.dtypes"
   ]
  },
  {
   "cell_type": "code",
   "execution_count": 1481,
   "metadata": {},
   "outputs": [
    {
     "data": {
      "text/plain": [
       "callID                    int64\n",
       "callDurationInSeconds     int64\n",
       "agentsGradeLevel         object\n",
       "callType                 object\n",
       "callEndedByAgent           bool\n",
       "dtype: object"
      ]
     },
     "execution_count": 1481,
     "metadata": {},
     "output_type": "execute_result"
    }
   ],
   "source": [
    "#making both columns the same data types so as to merge\n",
    "detailcopy['callID']=pd.to_numeric(detailcopy['callID']) \n",
    "detailcopy.dtypes"
   ]
  },
  {
   "cell_type": "code",
   "execution_count": 1482,
   "metadata": {},
   "outputs": [
    {
     "data": {
      "text/plain": [
       "id                             int64\n",
       "callerID                      object\n",
       "agentID                        int64\n",
       "complaintTopic                object\n",
       "assignedTo                   float64\n",
       "status                        object\n",
       "resolutionDurationInHours    float64\n",
       "dtype: object"
      ]
     },
     "execution_count": 1482,
     "metadata": {},
     "output_type": "execute_result"
    }
   ],
   "source": [
    "logcopy.dtypes"
   ]
  },
  {
   "cell_type": "markdown",
   "metadata": {},
   "source": [
    "##### Merging both data frames on 'callID' for detailcopy and 'id' on logcopy"
   ]
  },
  {
   "cell_type": "code",
   "execution_count": 1483,
   "metadata": {},
   "outputs": [
    {
     "data": {
      "text/html": [
       "<div>\n",
       "<style scoped>\n",
       "    .dataframe tbody tr th:only-of-type {\n",
       "        vertical-align: middle;\n",
       "    }\n",
       "\n",
       "    .dataframe tbody tr th {\n",
       "        vertical-align: top;\n",
       "    }\n",
       "\n",
       "    .dataframe thead th {\n",
       "        text-align: right;\n",
       "    }\n",
       "</style>\n",
       "<table border=\"1\" class=\"dataframe\">\n",
       "  <thead>\n",
       "    <tr style=\"text-align: right;\">\n",
       "      <th></th>\n",
       "      <th>callID</th>\n",
       "      <th>callDurationInSeconds</th>\n",
       "      <th>agentsGradeLevel</th>\n",
       "      <th>callType</th>\n",
       "      <th>callEndedByAgent</th>\n",
       "      <th>id</th>\n",
       "      <th>callerID</th>\n",
       "      <th>agentID</th>\n",
       "      <th>complaintTopic</th>\n",
       "      <th>assignedTo</th>\n",
       "      <th>status</th>\n",
       "      <th>resolutionDurationInHours</th>\n",
       "    </tr>\n",
       "  </thead>\n",
       "  <tbody>\n",
       "    <tr>\n",
       "      <th>0</th>\n",
       "      <td>1</td>\n",
       "      <td>97</td>\n",
       "      <td>A</td>\n",
       "      <td>Inbound</td>\n",
       "      <td>False</td>\n",
       "      <td>1</td>\n",
       "      <td>CALLER_1</td>\n",
       "      <td>163</td>\n",
       "      <td>Billing discrepancy</td>\n",
       "      <td>122.0</td>\n",
       "      <td>CLOSED</td>\n",
       "      <td>33.0</td>\n",
       "    </tr>\n",
       "    <tr>\n",
       "      <th>1</th>\n",
       "      <td>2</td>\n",
       "      <td>64</td>\n",
       "      <td>E</td>\n",
       "      <td>in-bound</td>\n",
       "      <td>True</td>\n",
       "      <td>2</td>\n",
       "      <td>CALLER_2</td>\n",
       "      <td>133</td>\n",
       "      <td>Difficulty reaching customer support</td>\n",
       "      <td>NaN</td>\n",
       "      <td>new</td>\n",
       "      <td>NaN</td>\n",
       "    </tr>\n",
       "    <tr>\n",
       "      <th>2</th>\n",
       "      <td>3</td>\n",
       "      <td>100</td>\n",
       "      <td>C</td>\n",
       "      <td>in-bound</td>\n",
       "      <td>False</td>\n",
       "      <td>3</td>\n",
       "      <td>CALLER_3</td>\n",
       "      <td>153</td>\n",
       "      <td>Wrong item received</td>\n",
       "      <td>122.0</td>\n",
       "      <td>resolved</td>\n",
       "      <td>NaN</td>\n",
       "    </tr>\n",
       "    <tr>\n",
       "      <th>3</th>\n",
       "      <td>4</td>\n",
       "      <td>69</td>\n",
       "      <td>D</td>\n",
       "      <td>Outbound</td>\n",
       "      <td>True</td>\n",
       "      <td>4</td>\n",
       "      <td>CALLER_4</td>\n",
       "      <td>161</td>\n",
       "      <td>Unauthorized charges</td>\n",
       "      <td>151.0</td>\n",
       "      <td>pEnding</td>\n",
       "      <td>NaN</td>\n",
       "    </tr>\n",
       "    <tr>\n",
       "      <th>4</th>\n",
       "      <td>5</td>\n",
       "      <td>96</td>\n",
       "      <td>D</td>\n",
       "      <td>Inbound</td>\n",
       "      <td>True</td>\n",
       "      <td>5</td>\n",
       "      <td>CALLER_5</td>\n",
       "      <td>148</td>\n",
       "      <td>Unprofessional behavior</td>\n",
       "      <td>NaN</td>\n",
       "      <td>new</td>\n",
       "      <td>NaN</td>\n",
       "    </tr>\n",
       "  </tbody>\n",
       "</table>\n",
       "</div>"
      ],
      "text/plain": [
       "   callID  callDurationInSeconds agentsGradeLevel  callType  callEndedByAgent  \\\n",
       "0       1                     97                A   Inbound             False   \n",
       "1       2                     64                E  in-bound              True   \n",
       "2       3                    100                C  in-bound             False   \n",
       "3       4                     69                D  Outbound              True   \n",
       "4       5                     96                D   Inbound              True   \n",
       "\n",
       "   id  callerID  agentID                        complaintTopic  assignedTo  \\\n",
       "0   1  CALLER_1      163                   Billing discrepancy       122.0   \n",
       "1   2  CALLER_2      133  Difficulty reaching customer support         NaN   \n",
       "2   3  CALLER_3      153                   Wrong item received       122.0   \n",
       "3   4  CALLER_4      161                  Unauthorized charges       151.0   \n",
       "4   5  CALLER_5      148               Unprofessional behavior         NaN   \n",
       "\n",
       "     status  resolutionDurationInHours  \n",
       "0    CLOSED                       33.0  \n",
       "1       new                        NaN  \n",
       "2  resolved                        NaN  \n",
       "3   pEnding                        NaN  \n",
       "4       new                        NaN  "
      ]
     },
     "execution_count": 1483,
     "metadata": {},
     "output_type": "execute_result"
    }
   ],
   "source": [
    "# merging the data frames\n",
    "merged_df=pd.merge(detailcopy,logcopy, left_on='callID', right_on='id')\n",
    "merged_df.head(5)"
   ]
  },
  {
   "cell_type": "markdown",
   "metadata": {},
   "source": [
    "# DATA CLEANING"
   ]
  },
  {
   "cell_type": "markdown",
   "metadata": {},
   "source": [
    "### 1. Clean the inconsistencies in string columns\n"
   ]
  },
  {
   "cell_type": "code",
   "execution_count": 1484,
   "metadata": {},
   "outputs": [
    {
     "data": {
      "text/html": [
       "<div>\n",
       "<style scoped>\n",
       "    .dataframe tbody tr th:only-of-type {\n",
       "        vertical-align: middle;\n",
       "    }\n",
       "\n",
       "    .dataframe tbody tr th {\n",
       "        vertical-align: top;\n",
       "    }\n",
       "\n",
       "    .dataframe thead th {\n",
       "        text-align: right;\n",
       "    }\n",
       "</style>\n",
       "<table border=\"1\" class=\"dataframe\">\n",
       "  <thead>\n",
       "    <tr style=\"text-align: right;\">\n",
       "      <th></th>\n",
       "      <th>callID</th>\n",
       "      <th>callDurationInSeconds</th>\n",
       "      <th>agentsGradeLevel</th>\n",
       "      <th>callType</th>\n",
       "      <th>callEndedByAgent</th>\n",
       "      <th>id</th>\n",
       "      <th>callerID</th>\n",
       "      <th>agentID</th>\n",
       "      <th>complaintTopic</th>\n",
       "      <th>assignedTo</th>\n",
       "      <th>status</th>\n",
       "      <th>resolutionDurationInHours</th>\n",
       "    </tr>\n",
       "  </thead>\n",
       "  <tbody>\n",
       "    <tr>\n",
       "      <th>0</th>\n",
       "      <td>1</td>\n",
       "      <td>97</td>\n",
       "      <td>A</td>\n",
       "      <td>Inbound</td>\n",
       "      <td>False</td>\n",
       "      <td>1</td>\n",
       "      <td>CALLER_1</td>\n",
       "      <td>163</td>\n",
       "      <td>Billing discrepancy</td>\n",
       "      <td>122.0</td>\n",
       "      <td>CLOSED</td>\n",
       "      <td>33.0</td>\n",
       "    </tr>\n",
       "    <tr>\n",
       "      <th>1</th>\n",
       "      <td>2</td>\n",
       "      <td>64</td>\n",
       "      <td>E</td>\n",
       "      <td>in-bound</td>\n",
       "      <td>True</td>\n",
       "      <td>2</td>\n",
       "      <td>CALLER_2</td>\n",
       "      <td>133</td>\n",
       "      <td>Difficulty reaching customer support</td>\n",
       "      <td>NaN</td>\n",
       "      <td>new</td>\n",
       "      <td>NaN</td>\n",
       "    </tr>\n",
       "  </tbody>\n",
       "</table>\n",
       "</div>"
      ],
      "text/plain": [
       "   callID  callDurationInSeconds agentsGradeLevel  callType  callEndedByAgent  \\\n",
       "0       1                     97                A   Inbound             False   \n",
       "1       2                     64                E  in-bound              True   \n",
       "\n",
       "   id  callerID  agentID                        complaintTopic  assignedTo  \\\n",
       "0   1  CALLER_1      163                   Billing discrepancy       122.0   \n",
       "1   2  CALLER_2      133  Difficulty reaching customer support         NaN   \n",
       "\n",
       "   status  resolutionDurationInHours  \n",
       "0  CLOSED                       33.0  \n",
       "1     new                        NaN  "
      ]
     },
     "execution_count": 1484,
     "metadata": {},
     "output_type": "execute_result"
    }
   ],
   "source": [
    "merged_df.head(2)"
   ]
  },
  {
   "cell_type": "code",
   "execution_count": 1485,
   "metadata": {},
   "outputs": [],
   "source": [
    "#consistency in callType column\n",
    "merged_df['callType']=merged_df['callType'].str.replace('-', '')\n",
    "merged_df['callType']=merged_df['callType'].str.strip('')"
   ]
  },
  {
   "cell_type": "code",
   "execution_count": 1486,
   "metadata": {},
   "outputs": [
    {
     "data": {
      "text/plain": [
       "0       inbound\n",
       "1       inbound\n",
       "2       inbound\n",
       "3      outbound\n",
       "4       inbound\n",
       "         ...   \n",
       "595    outbound\n",
       "596     inbound\n",
       "597    outbound\n",
       "598     inbound\n",
       "599    outbound\n",
       "Name: callType, Length: 600, dtype: object"
      ]
     },
     "execution_count": 1486,
     "metadata": {},
     "output_type": "execute_result"
    }
   ],
   "source": [
    "#consistency in callType column\n",
    "merged_df['callType']=merged_df['callType'].apply(str.lower)\n",
    "merged_df['callType']"
   ]
  },
  {
   "cell_type": "code",
   "execution_count": 1487,
   "metadata": {},
   "outputs": [],
   "source": [
    "#consistency in status column\n",
    "merged_df['status']=merged_df['status'].apply(str.upper)"
   ]
  },
  {
   "cell_type": "markdown",
   "metadata": {},
   "source": [
    "### Changing time columns datatypes to timestamps"
   ]
  },
  {
   "cell_type": "code",
   "execution_count": 1488,
   "metadata": {},
   "outputs": [
    {
     "name": "stderr",
     "output_type": "stream",
     "text": [
      "C:\\Users\\JOY\\AppData\\Local\\Temp\\ipykernel_2768\\66569766.py:3: FutureWarning: The behavior of 'to_datetime' with 'unit' when parsing strings is deprecated. In a future version, strings will be parsed as datetime strings, matching the behavior without a 'unit'. To retain the old behavior, explicitly cast ints or floats to numeric type before calling to_datetime.\n",
      "  merged_df['callDurationInSeconds']=pd.to_datetime(merged_df['callDurationInSeconds'], unit='s')\n"
     ]
    },
    {
     "data": {
      "text/plain": [
       "0      00:01:37\n",
       "1      00:01:04\n",
       "2      00:01:40\n",
       "3      00:01:09\n",
       "4      00:01:36\n",
       "         ...   \n",
       "595    00:02:27\n",
       "596    00:01:30\n",
       "597    00:01:29\n",
       "598    00:02:26\n",
       "599    00:01:43\n",
       "Name: callDurationInSeconds, Length: 600, dtype: object"
      ]
     },
     "execution_count": 1488,
     "metadata": {},
     "output_type": "execute_result"
    }
   ],
   "source": [
    "# changing \"callDurationInSeconds\" to timestamp\n",
    "merged_df['callDurationInSeconds']=merged_df['callDurationInSeconds'].apply(str)\n",
    "merged_df['callDurationInSeconds']=pd.to_datetime(merged_df['callDurationInSeconds'], unit='s')\n",
    "merged_df['callDurationInSeconds']=merged_df['callDurationInSeconds'].dt.strftime(\"%H:%M:%S\")\n",
    "merged_df['callDurationInSeconds']\n",
    "#df['A'] = pd.to_datetime(df[\"A\"], unit='s').dt.strftime(\"%H:%M:%S\")"
   ]
  },
  {
   "cell_type": "markdown",
   "metadata": {},
   "source": [
    "### 3. Filling NaN values\n"
   ]
  },
  {
   "cell_type": "code",
   "execution_count": 1489,
   "metadata": {},
   "outputs": [
    {
     "data": {
      "text/plain": [
       "0    1 days 09:00:00\n",
       "1    0 days 00:00:00\n",
       "2    0 days 00:00:00\n",
       "3    0 days 00:00:00\n",
       "4    0 days 00:00:00\n",
       "5    0 days 18:00:00\n",
       "6    0 days 00:00:00\n",
       "7    0 days 00:00:00\n",
       "8    0 days 00:00:00\n",
       "9    0 days 00:00:00\n",
       "10   0 days 18:00:00\n",
       "11   0 days 00:00:00\n",
       "12   0 days 00:00:00\n",
       "13   0 days 00:00:00\n",
       "14   0 days 00:00:00\n",
       "Name: resolutionDurationInHours, dtype: timedelta64[ns]"
      ]
     },
     "execution_count": 1489,
     "metadata": {},
     "output_type": "execute_result"
    }
   ],
   "source": [
    "# filling Null values\n",
    "# changing \"callDurationInSeconds\" to timestamp\n",
    "merged_df['resolutionDurationInHours']=merged_df['resolutionDurationInHours'].fillna(0)\n",
    "merged_df['resolutionDurationInHours']=merged_df['resolutionDurationInHours'].replace('NaN','00:00:00.000')\n",
    "merged_df['resolutionDurationInHours']=pd.to_timedelta(merged_df['resolutionDurationInHours'], unit='h')\n",
    "merged_df['resolutionDurationInHours'].head(15)\n",
    "#merged_df['resolutionDurationInHours']\n"
   ]
  },
  {
   "cell_type": "markdown",
   "metadata": {},
   "source": [
    "##### In a cases where a call was not assigned to as agent, it is assumed that the case was handled by the agent who took the call"
   ]
  },
  {
   "cell_type": "code",
   "execution_count": 1490,
   "metadata": {},
   "outputs": [
    {
     "data": {
      "text/plain": [
       "0     122\n",
       "1     133\n",
       "2     122\n",
       "3     151\n",
       "4     148\n",
       "5     125\n",
       "6     125\n",
       "7     171\n",
       "8     161\n",
       "9     135\n",
       "10    133\n",
       "11    122\n",
       "12    132\n",
       "13    136\n",
       "14    171\n",
       "15    169\n",
       "16    155\n",
       "17    155\n",
       "18    159\n",
       "19    131\n",
       "Name: assignedTo, dtype: int32"
      ]
     },
     "execution_count": 1490,
     "metadata": {},
     "output_type": "execute_result"
    }
   ],
   "source": [
    "# filling null values in column assigned to with agent \n",
    "#merged_df['assignedTo']=merged_df['assignedTo'].fillna(0)\n",
    "#merged_df['assignedTo']=merged_df['assignedTo'].astype(int)\n",
    "merged_df['assignedTo']=merged_df['assignedTo'].fillna(merged_df['agentID'])\n",
    "merged_df['assignedTo']=merged_df['assignedTo'].astype(int)\n",
    "merged_df['assignedTo'].head(20)"
   ]
  },
  {
   "cell_type": "code",
   "execution_count": 1491,
   "metadata": {},
   "outputs": [
    {
     "data": {
      "text/html": [
       "<div>\n",
       "<style scoped>\n",
       "    .dataframe tbody tr th:only-of-type {\n",
       "        vertical-align: middle;\n",
       "    }\n",
       "\n",
       "    .dataframe tbody tr th {\n",
       "        vertical-align: top;\n",
       "    }\n",
       "\n",
       "    .dataframe thead th {\n",
       "        text-align: right;\n",
       "    }\n",
       "</style>\n",
       "<table border=\"1\" class=\"dataframe\">\n",
       "  <thead>\n",
       "    <tr style=\"text-align: right;\">\n",
       "      <th></th>\n",
       "      <th>callID</th>\n",
       "      <th>callDurationInSeconds</th>\n",
       "      <th>agentsGradeLevel</th>\n",
       "      <th>callType</th>\n",
       "      <th>callEndedByAgent</th>\n",
       "      <th>id</th>\n",
       "      <th>callerID</th>\n",
       "      <th>agentID</th>\n",
       "      <th>complaintTopic</th>\n",
       "      <th>assignedTo</th>\n",
       "      <th>status</th>\n",
       "      <th>resolutionDurationInHours</th>\n",
       "    </tr>\n",
       "  </thead>\n",
       "  <tbody>\n",
       "    <tr>\n",
       "      <th>0</th>\n",
       "      <td>1</td>\n",
       "      <td>00:01:37</td>\n",
       "      <td>A</td>\n",
       "      <td>inbound</td>\n",
       "      <td>False</td>\n",
       "      <td>1</td>\n",
       "      <td>CALLER_1</td>\n",
       "      <td>163</td>\n",
       "      <td>Billing discrepancy</td>\n",
       "      <td>122</td>\n",
       "      <td>CLOSED</td>\n",
       "      <td>1 days 09:00:00</td>\n",
       "    </tr>\n",
       "  </tbody>\n",
       "</table>\n",
       "</div>"
      ],
      "text/plain": [
       "   callID callDurationInSeconds agentsGradeLevel callType  callEndedByAgent  \\\n",
       "0       1              00:01:37                A  inbound             False   \n",
       "\n",
       "   id  callerID  agentID       complaintTopic  assignedTo  status  \\\n",
       "0   1  CALLER_1      163  Billing discrepancy         122  CLOSED   \n",
       "\n",
       "  resolutionDurationInHours  \n",
       "0           1 days 09:00:00  "
      ]
     },
     "execution_count": 1491,
     "metadata": {},
     "output_type": "execute_result"
    }
   ],
   "source": [
    "merged_df.head(1)"
   ]
  },
  {
   "cell_type": "code",
   "execution_count": 1492,
   "metadata": {},
   "outputs": [],
   "source": [
    "merged_df.drop('id', inplace=True, axis=1)"
   ]
  },
  {
   "cell_type": "code",
   "execution_count": 1493,
   "metadata": {},
   "outputs": [
    {
     "data": {
      "text/html": [
       "<div>\n",
       "<style scoped>\n",
       "    .dataframe tbody tr th:only-of-type {\n",
       "        vertical-align: middle;\n",
       "    }\n",
       "\n",
       "    .dataframe tbody tr th {\n",
       "        vertical-align: top;\n",
       "    }\n",
       "\n",
       "    .dataframe thead th {\n",
       "        text-align: right;\n",
       "    }\n",
       "</style>\n",
       "<table border=\"1\" class=\"dataframe\">\n",
       "  <thead>\n",
       "    <tr style=\"text-align: right;\">\n",
       "      <th></th>\n",
       "      <th>callID</th>\n",
       "      <th>callDurationInSeconds</th>\n",
       "      <th>agentsGradeLevel</th>\n",
       "      <th>callType</th>\n",
       "      <th>callEndedByAgent</th>\n",
       "      <th>callerID</th>\n",
       "      <th>agentID</th>\n",
       "      <th>complaintTopic</th>\n",
       "      <th>assignedTo</th>\n",
       "      <th>status</th>\n",
       "      <th>resolutionDurationInHours</th>\n",
       "    </tr>\n",
       "  </thead>\n",
       "  <tbody>\n",
       "    <tr>\n",
       "      <th>0</th>\n",
       "      <td>1</td>\n",
       "      <td>00:01:37</td>\n",
       "      <td>A</td>\n",
       "      <td>inbound</td>\n",
       "      <td>False</td>\n",
       "      <td>CALLER_1</td>\n",
       "      <td>163</td>\n",
       "      <td>Billing discrepancy</td>\n",
       "      <td>122</td>\n",
       "      <td>CLOSED</td>\n",
       "      <td>1 days 09:00:00</td>\n",
       "    </tr>\n",
       "    <tr>\n",
       "      <th>1</th>\n",
       "      <td>2</td>\n",
       "      <td>00:01:04</td>\n",
       "      <td>E</td>\n",
       "      <td>inbound</td>\n",
       "      <td>True</td>\n",
       "      <td>CALLER_2</td>\n",
       "      <td>133</td>\n",
       "      <td>Difficulty reaching customer support</td>\n",
       "      <td>133</td>\n",
       "      <td>NEW</td>\n",
       "      <td>0 days 00:00:00</td>\n",
       "    </tr>\n",
       "    <tr>\n",
       "      <th>2</th>\n",
       "      <td>3</td>\n",
       "      <td>00:01:40</td>\n",
       "      <td>C</td>\n",
       "      <td>inbound</td>\n",
       "      <td>False</td>\n",
       "      <td>CALLER_3</td>\n",
       "      <td>153</td>\n",
       "      <td>Wrong item received</td>\n",
       "      <td>122</td>\n",
       "      <td>RESOLVED</td>\n",
       "      <td>0 days 00:00:00</td>\n",
       "    </tr>\n",
       "    <tr>\n",
       "      <th>3</th>\n",
       "      <td>4</td>\n",
       "      <td>00:01:09</td>\n",
       "      <td>D</td>\n",
       "      <td>outbound</td>\n",
       "      <td>True</td>\n",
       "      <td>CALLER_4</td>\n",
       "      <td>161</td>\n",
       "      <td>Unauthorized charges</td>\n",
       "      <td>151</td>\n",
       "      <td>PENDING</td>\n",
       "      <td>0 days 00:00:00</td>\n",
       "    </tr>\n",
       "    <tr>\n",
       "      <th>4</th>\n",
       "      <td>5</td>\n",
       "      <td>00:01:36</td>\n",
       "      <td>D</td>\n",
       "      <td>inbound</td>\n",
       "      <td>True</td>\n",
       "      <td>CALLER_5</td>\n",
       "      <td>148</td>\n",
       "      <td>Unprofessional behavior</td>\n",
       "      <td>148</td>\n",
       "      <td>NEW</td>\n",
       "      <td>0 days 00:00:00</td>\n",
       "    </tr>\n",
       "    <tr>\n",
       "      <th>...</th>\n",
       "      <td>...</td>\n",
       "      <td>...</td>\n",
       "      <td>...</td>\n",
       "      <td>...</td>\n",
       "      <td>...</td>\n",
       "      <td>...</td>\n",
       "      <td>...</td>\n",
       "      <td>...</td>\n",
       "      <td>...</td>\n",
       "      <td>...</td>\n",
       "      <td>...</td>\n",
       "    </tr>\n",
       "    <tr>\n",
       "      <th>595</th>\n",
       "      <td>596</td>\n",
       "      <td>00:02:27</td>\n",
       "      <td>E</td>\n",
       "      <td>outbound</td>\n",
       "      <td>True</td>\n",
       "      <td>CALLER_596</td>\n",
       "      <td>137</td>\n",
       "      <td>Unhelpful support</td>\n",
       "      <td>169</td>\n",
       "      <td>NEW</td>\n",
       "      <td>0 days 00:00:00</td>\n",
       "    </tr>\n",
       "    <tr>\n",
       "      <th>596</th>\n",
       "      <td>597</td>\n",
       "      <td>00:01:30</td>\n",
       "      <td>A</td>\n",
       "      <td>inbound</td>\n",
       "      <td>True</td>\n",
       "      <td>CALLER_597</td>\n",
       "      <td>159</td>\n",
       "      <td>Slow response time</td>\n",
       "      <td>159</td>\n",
       "      <td>RESOLVED</td>\n",
       "      <td>0 days 00:00:00</td>\n",
       "    </tr>\n",
       "    <tr>\n",
       "      <th>597</th>\n",
       "      <td>598</td>\n",
       "      <td>00:01:29</td>\n",
       "      <td>F</td>\n",
       "      <td>outbound</td>\n",
       "      <td>True</td>\n",
       "      <td>CALLER_598</td>\n",
       "      <td>148</td>\n",
       "      <td>Shipping delay</td>\n",
       "      <td>150</td>\n",
       "      <td>PENDING</td>\n",
       "      <td>0 days 00:00:00</td>\n",
       "    </tr>\n",
       "    <tr>\n",
       "      <th>598</th>\n",
       "      <td>599</td>\n",
       "      <td>00:02:26</td>\n",
       "      <td>D</td>\n",
       "      <td>inbound</td>\n",
       "      <td>False</td>\n",
       "      <td>CALLER_599</td>\n",
       "      <td>161</td>\n",
       "      <td>Website not working</td>\n",
       "      <td>148</td>\n",
       "      <td>PENDING</td>\n",
       "      <td>0 days 00:00:00</td>\n",
       "    </tr>\n",
       "    <tr>\n",
       "      <th>599</th>\n",
       "      <td>600</td>\n",
       "      <td>00:01:43</td>\n",
       "      <td>C</td>\n",
       "      <td>outbound</td>\n",
       "      <td>False</td>\n",
       "      <td>CALLER_600</td>\n",
       "      <td>127</td>\n",
       "      <td>Wrong item received</td>\n",
       "      <td>149</td>\n",
       "      <td>RESOLVED</td>\n",
       "      <td>0 days 00:00:00</td>\n",
       "    </tr>\n",
       "  </tbody>\n",
       "</table>\n",
       "<p>600 rows × 11 columns</p>\n",
       "</div>"
      ],
      "text/plain": [
       "     callID callDurationInSeconds agentsGradeLevel  callType  \\\n",
       "0         1              00:01:37                A   inbound   \n",
       "1         2              00:01:04                E   inbound   \n",
       "2         3              00:01:40                C   inbound   \n",
       "3         4              00:01:09                D  outbound   \n",
       "4         5              00:01:36                D   inbound   \n",
       "..      ...                   ...              ...       ...   \n",
       "595     596              00:02:27                E  outbound   \n",
       "596     597              00:01:30                A   inbound   \n",
       "597     598              00:01:29                F  outbound   \n",
       "598     599              00:02:26                D   inbound   \n",
       "599     600              00:01:43                C  outbound   \n",
       "\n",
       "     callEndedByAgent    callerID  agentID  \\\n",
       "0               False    CALLER_1      163   \n",
       "1                True    CALLER_2      133   \n",
       "2               False    CALLER_3      153   \n",
       "3                True    CALLER_4      161   \n",
       "4                True    CALLER_5      148   \n",
       "..                ...         ...      ...   \n",
       "595              True  CALLER_596      137   \n",
       "596              True  CALLER_597      159   \n",
       "597              True  CALLER_598      148   \n",
       "598             False  CALLER_599      161   \n",
       "599             False  CALLER_600      127   \n",
       "\n",
       "                           complaintTopic  assignedTo    status  \\\n",
       "0                     Billing discrepancy         122    CLOSED   \n",
       "1    Difficulty reaching customer support         133       NEW   \n",
       "2                     Wrong item received         122  RESOLVED   \n",
       "3                    Unauthorized charges         151   PENDING   \n",
       "4                 Unprofessional behavior         148       NEW   \n",
       "..                                    ...         ...       ...   \n",
       "595                     Unhelpful support         169       NEW   \n",
       "596                    Slow response time         159  RESOLVED   \n",
       "597                        Shipping delay         150   PENDING   \n",
       "598                   Website not working         148   PENDING   \n",
       "599                   Wrong item received         149  RESOLVED   \n",
       "\n",
       "    resolutionDurationInHours  \n",
       "0             1 days 09:00:00  \n",
       "1             0 days 00:00:00  \n",
       "2             0 days 00:00:00  \n",
       "3             0 days 00:00:00  \n",
       "4             0 days 00:00:00  \n",
       "..                        ...  \n",
       "595           0 days 00:00:00  \n",
       "596           0 days 00:00:00  \n",
       "597           0 days 00:00:00  \n",
       "598           0 days 00:00:00  \n",
       "599           0 days 00:00:00  \n",
       "\n",
       "[600 rows x 11 columns]"
      ]
     },
     "execution_count": 1493,
     "metadata": {},
     "output_type": "execute_result"
    }
   ],
   "source": [
    "#my_merged_df=['callID','callerID', 'callDurationInSeconds', 'agentsGradeLevel', 'callType', \n",
    "              #'callEndedByAgent', 'agentID', 'complaintTopic', 'assignedTo', 'status', 'resolutionDurationInHours']\n",
    "merged_df"
   ]
  },
  {
   "cell_type": "code",
   "execution_count": 1494,
   "metadata": {},
   "outputs": [],
   "source": [
    "#export dataframe to csv\n",
    "\n",
    "#merged_df.to_csv('merged_cleaned_data.csv', index=False)"
   ]
  },
  {
   "cell_type": "code",
   "execution_count": null,
   "metadata": {},
   "outputs": [],
   "source": [
    "### The End"
   ]
  }
 ],
 "metadata": {
  "kernelspec": {
   "display_name": "venv",
   "language": "python",
   "name": "python3"
  },
  "language_info": {
   "codemirror_mode": {
    "name": "ipython",
    "version": 3
   },
   "file_extension": ".py",
   "mimetype": "text/x-python",
   "name": "python",
   "nbconvert_exporter": "python",
   "pygments_lexer": "ipython3",
   "version": "3.11.6"
  }
 },
 "nbformat": 4,
 "nbformat_minor": 2
}
